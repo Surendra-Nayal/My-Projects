{
 "cells": [
  {
   "cell_type": "code",
   "execution_count": 1,
   "metadata": {},
   "outputs": [],
   "source": [
    "# importing necessary libraries\n",
    "import pandas as pd\n",
    "import numpy as np\n",
    "import matplotlib.pyplot as plt\n",
    "import seaborn as sns\n",
    "import joblib\n",
    "import warnings\n",
    "warnings.filterwarnings('ignore')\n",
    "%matplotlib inline"
   ]
  },
  {
   "cell_type": "code",
   "execution_count": 2,
   "metadata": {},
   "outputs": [],
   "source": [
    "# loading data into dataframes\n",
    "data1 = pd.read_csv(\"E:\\Surendra Data\\DATA Scientist Course Detail\\Internship\\Capstone Project\\Data\\Data1.csv\")\n",
    "data2 = pd.read_csv(\"E:\\Surendra Data\\DATA Scientist Course Detail\\Internship\\Capstone Project\\Data\\Data2.csv\")\n",
    "data3 = pd.read_csv(\"E:\\Surendra Data\\DATA Scientist Course Detail\\Internship\\Capstone Project\\Data\\Data3.csv\")"
   ]
  },
  {
   "cell_type": "markdown",
   "metadata": {},
   "source": [
    "#### First five rows of all 3 dataframes."
   ]
  },
  {
   "cell_type": "code",
   "execution_count": 3,
   "metadata": {},
   "outputs": [
    {
     "data": {
      "text/html": [
       "<div>\n",
       "<style scoped>\n",
       "    .dataframe tbody tr th:only-of-type {\n",
       "        vertical-align: middle;\n",
       "    }\n",
       "\n",
       "    .dataframe tbody tr th {\n",
       "        vertical-align: top;\n",
       "    }\n",
       "\n",
       "    .dataframe thead th {\n",
       "        text-align: right;\n",
       "    }\n",
       "</style>\n",
       "<table border=\"1\" class=\"dataframe\">\n",
       "  <thead>\n",
       "    <tr style=\"text-align: right;\">\n",
       "      <th></th>\n",
       "      <th>Sno</th>\n",
       "      <th>Hotel Name</th>\n",
       "      <th>City</th>\n",
       "      <th>Location</th>\n",
       "      <th>Number of Reviews</th>\n",
       "      <th>User Ratings</th>\n",
       "      <th>Star Rating</th>\n",
       "      <th>Review Score</th>\n",
       "    </tr>\n",
       "  </thead>\n",
       "  <tbody>\n",
       "    <tr>\n",
       "      <th>0</th>\n",
       "      <td>1</td>\n",
       "      <td>Days Hotel By Wyndham Dubai Deira</td>\n",
       "      <td>Dubai</td>\n",
       "      <td>One Deira Plaza Gold Souk Metro Station Al Cor...</td>\n",
       "      <td>4,049</td>\n",
       "      <td>8.1</td>\n",
       "      <td>3</td>\n",
       "      <td>Very good</td>\n",
       "    </tr>\n",
       "    <tr>\n",
       "      <th>1</th>\n",
       "      <td>2</td>\n",
       "      <td>Four Points by Sheraton Sheikh Zayed Road</td>\n",
       "      <td>Dubai</td>\n",
       "      <td>Sheikh Zayed Road, Trade Centre, Dubai, United...</td>\n",
       "      <td>2,926</td>\n",
       "      <td>8.4</td>\n",
       "      <td>4</td>\n",
       "      <td>Very good</td>\n",
       "    </tr>\n",
       "    <tr>\n",
       "      <th>2</th>\n",
       "      <td>3</td>\n",
       "      <td>1 World Dubai</td>\n",
       "      <td>Dubai</td>\n",
       "      <td>King Salman Bin Abdulaziz Al Saud Street Elite...</td>\n",
       "      <td>695</td>\n",
       "      <td>8.6</td>\n",
       "      <td>0</td>\n",
       "      <td>Fabulous</td>\n",
       "    </tr>\n",
       "    <tr>\n",
       "      <th>3</th>\n",
       "      <td>4</td>\n",
       "      <td>Holiday Inn Express Dubai Airport, an IHG Hotel</td>\n",
       "      <td>Dubai</td>\n",
       "      <td>Airport Road, Garhoud, 35257 Dubai, United Ara...</td>\n",
       "      <td>16,649</td>\n",
       "      <td>7.8</td>\n",
       "      <td>3</td>\n",
       "      <td>Good</td>\n",
       "    </tr>\n",
       "    <tr>\n",
       "      <th>4</th>\n",
       "      <td>5</td>\n",
       "      <td>One bedroom apartment with amazing pool view i...</td>\n",
       "      <td>Dubai</td>\n",
       "      <td>Apartment no 902, Building name tower 108, JVC...</td>\n",
       "      <td>-</td>\n",
       "      <td>-</td>\n",
       "      <td>0</td>\n",
       "      <td>-</td>\n",
       "    </tr>\n",
       "  </tbody>\n",
       "</table>\n",
       "</div>"
      ],
      "text/plain": [
       "   Sno                                         Hotel Name   City  \\\n",
       "0    1                  Days Hotel By Wyndham Dubai Deira  Dubai   \n",
       "1    2          Four Points by Sheraton Sheikh Zayed Road  Dubai   \n",
       "2    3                                      1 World Dubai  Dubai   \n",
       "3    4    Holiday Inn Express Dubai Airport, an IHG Hotel  Dubai   \n",
       "4    5  One bedroom apartment with amazing pool view i...  Dubai   \n",
       "\n",
       "                                            Location Number of Reviews  \\\n",
       "0  One Deira Plaza Gold Souk Metro Station Al Cor...             4,049   \n",
       "1  Sheikh Zayed Road, Trade Centre, Dubai, United...             2,926   \n",
       "2  King Salman Bin Abdulaziz Al Saud Street Elite...               695   \n",
       "3  Airport Road, Garhoud, 35257 Dubai, United Ara...            16,649   \n",
       "4  Apartment no 902, Building name tower 108, JVC...                 -   \n",
       "\n",
       "  User Ratings  Star Rating Review Score  \n",
       "0          8.1            3    Very good  \n",
       "1          8.4            4    Very good  \n",
       "2          8.6            0     Fabulous  \n",
       "3          7.8            3         Good  \n",
       "4            -            0            -  "
      ]
     },
     "execution_count": 3,
     "metadata": {},
     "output_type": "execute_result"
    }
   ],
   "source": [
    "data1.head()"
   ]
  },
  {
   "cell_type": "code",
   "execution_count": 4,
   "metadata": {},
   "outputs": [
    {
     "data": {
      "text/plain": [
       "Index(['Hotel Name', 'City', 'Location', 'Number of Reviews', 'User Ratings',\n",
       "       'Star Rating', 'Review Score'],\n",
       "      dtype='object')"
      ]
     },
     "execution_count": 4,
     "metadata": {},
     "output_type": "execute_result"
    }
   ],
   "source": [
    "data1.drop('Sno', axis=1, inplace=True)\n",
    "data1.columns"
   ]
  },
  {
   "cell_type": "code",
   "execution_count": 5,
   "metadata": {},
   "outputs": [
    {
     "data": {
      "text/plain": [
       "Hotel Name           0\n",
       "City                 0\n",
       "Location             0\n",
       "Number of Reviews    0\n",
       "User Ratings         0\n",
       "Star Rating          0\n",
       "Review Score         0\n",
       "dtype: int64"
      ]
     },
     "execution_count": 5,
     "metadata": {},
     "output_type": "execute_result"
    }
   ],
   "source": [
    "data1.isnull().sum()"
   ]
  },
  {
   "cell_type": "code",
   "execution_count": 6,
   "metadata": {},
   "outputs": [
    {
     "data": {
      "text/html": [
       "<div>\n",
       "<style scoped>\n",
       "    .dataframe tbody tr th:only-of-type {\n",
       "        vertical-align: middle;\n",
       "    }\n",
       "\n",
       "    .dataframe tbody tr th {\n",
       "        vertical-align: top;\n",
       "    }\n",
       "\n",
       "    .dataframe thead th {\n",
       "        text-align: right;\n",
       "    }\n",
       "</style>\n",
       "<table border=\"1\" class=\"dataframe\">\n",
       "  <thead>\n",
       "    <tr style=\"text-align: right;\">\n",
       "      <th></th>\n",
       "      <th>Sno</th>\n",
       "      <th>Hotel Name</th>\n",
       "      <th>Freewifi</th>\n",
       "      <th>Family Rooms</th>\n",
       "      <th>Non-Smoking Rooms</th>\n",
       "      <th>Restaurant</th>\n",
       "      <th>Bar</th>\n",
       "      <th>Heating</th>\n",
       "      <th>Lift</th>\n",
       "      <th>Breakfast Cuisine1</th>\n",
       "      <th>Breakfast Cuisine2</th>\n",
       "      <th>Breakfast Cuisine3</th>\n",
       "    </tr>\n",
       "  </thead>\n",
       "  <tbody>\n",
       "    <tr>\n",
       "      <th>0</th>\n",
       "      <td>1</td>\n",
       "      <td>Days Hotel By Wyndham Dubai Deira</td>\n",
       "      <td>No</td>\n",
       "      <td>Yes</td>\n",
       "      <td>Yes</td>\n",
       "      <td>No</td>\n",
       "      <td>No</td>\n",
       "      <td>No</td>\n",
       "      <td>No</td>\n",
       "      <td>Continental,</td>\n",
       "      <td>Italian,</td>\n",
       "      <td>Full</td>\n",
       "    </tr>\n",
       "    <tr>\n",
       "      <th>1</th>\n",
       "      <td>2</td>\n",
       "      <td>Four Points by Sheraton Sheikh Zayed Road</td>\n",
       "      <td>No</td>\n",
       "      <td>Yes</td>\n",
       "      <td>Yes</td>\n",
       "      <td>No</td>\n",
       "      <td>Yes</td>\n",
       "      <td>No</td>\n",
       "      <td>Yes</td>\n",
       "      <td>Continental,</td>\n",
       "      <td>Vegetarian,</td>\n",
       "      <td>Halal,</td>\n",
       "    </tr>\n",
       "    <tr>\n",
       "      <th>2</th>\n",
       "      <td>3</td>\n",
       "      <td>1 World Dubai</td>\n",
       "      <td>No</td>\n",
       "      <td>No</td>\n",
       "      <td>Yes</td>\n",
       "      <td>No</td>\n",
       "      <td>No</td>\n",
       "      <td>Yes</td>\n",
       "      <td>Yes</td>\n",
       "      <td>-</td>\n",
       "      <td>-</td>\n",
       "      <td>-</td>\n",
       "    </tr>\n",
       "    <tr>\n",
       "      <th>3</th>\n",
       "      <td>4</td>\n",
       "      <td>Holiday Inn Express Dubai Airport, an IHG Hotel</td>\n",
       "      <td>No</td>\n",
       "      <td>No</td>\n",
       "      <td>Yes</td>\n",
       "      <td>No</td>\n",
       "      <td>Yes</td>\n",
       "      <td>No</td>\n",
       "      <td>Yes</td>\n",
       "      <td>Continental,</td>\n",
       "      <td>Italian,</td>\n",
       "      <td>Vegetarian,</td>\n",
       "    </tr>\n",
       "    <tr>\n",
       "      <th>4</th>\n",
       "      <td>5</td>\n",
       "      <td>One bedroom apartment with amazing pool view i...</td>\n",
       "      <td>No</td>\n",
       "      <td>Yes</td>\n",
       "      <td>No</td>\n",
       "      <td>No</td>\n",
       "      <td>No</td>\n",
       "      <td>Yes</td>\n",
       "      <td>Yes</td>\n",
       "      <td>-</td>\n",
       "      <td>-</td>\n",
       "      <td>-</td>\n",
       "    </tr>\n",
       "  </tbody>\n",
       "</table>\n",
       "</div>"
      ],
      "text/plain": [
       "   Sno                                         Hotel Name Freewifi  \\\n",
       "0    1                  Days Hotel By Wyndham Dubai Deira       No   \n",
       "1    2          Four Points by Sheraton Sheikh Zayed Road       No   \n",
       "2    3                                      1 World Dubai       No   \n",
       "3    4    Holiday Inn Express Dubai Airport, an IHG Hotel       No   \n",
       "4    5  One bedroom apartment with amazing pool view i...       No   \n",
       "\n",
       "  Family Rooms Non-Smoking Rooms Restaurant  Bar Heating Lift  \\\n",
       "0          Yes               Yes         No   No      No   No   \n",
       "1          Yes               Yes         No  Yes      No  Yes   \n",
       "2           No               Yes         No   No     Yes  Yes   \n",
       "3           No               Yes         No  Yes      No  Yes   \n",
       "4          Yes                No         No   No     Yes  Yes   \n",
       "\n",
       "  Breakfast Cuisine1 Breakfast Cuisine2 Breakfast Cuisine3  \n",
       "0       Continental,           Italian,               Full  \n",
       "1       Continental,        Vegetarian,             Halal,  \n",
       "2                  -                  -                  -  \n",
       "3       Continental,           Italian,        Vegetarian,  \n",
       "4                  -                  -                  -  "
      ]
     },
     "execution_count": 6,
     "metadata": {},
     "output_type": "execute_result"
    }
   ],
   "source": [
    "data2.head()"
   ]
  },
  {
   "cell_type": "code",
   "execution_count": 7,
   "metadata": {},
   "outputs": [
    {
     "data": {
      "text/plain": [
       "Index(['Freewifi', 'Family Rooms', 'Non-Smoking Rooms', 'Restaurant', 'Bar',\n",
       "       'Heating', 'Lift', 'Breakfast Cuisine1', 'Breakfast Cuisine2',\n",
       "       'Breakfast Cuisine3'],\n",
       "      dtype='object')"
      ]
     },
     "execution_count": 7,
     "metadata": {},
     "output_type": "execute_result"
    }
   ],
   "source": [
    "data2.drop(['Sno','Hotel Name'], axis=1, inplace=True)\n",
    "data2.columns"
   ]
  },
  {
   "cell_type": "code",
   "execution_count": 8,
   "metadata": {},
   "outputs": [
    {
     "data": {
      "text/html": [
       "<div>\n",
       "<style scoped>\n",
       "    .dataframe tbody tr th:only-of-type {\n",
       "        vertical-align: middle;\n",
       "    }\n",
       "\n",
       "    .dataframe tbody tr th {\n",
       "        vertical-align: top;\n",
       "    }\n",
       "\n",
       "    .dataframe thead th {\n",
       "        text-align: right;\n",
       "    }\n",
       "</style>\n",
       "<table border=\"1\" class=\"dataframe\">\n",
       "  <thead>\n",
       "    <tr style=\"text-align: right;\">\n",
       "      <th></th>\n",
       "      <th>Sno</th>\n",
       "      <th>Hotel Name</th>\n",
       "      <th>Room Type</th>\n",
       "      <th>Doublebed</th>\n",
       "      <th>Singlebed</th>\n",
       "      <th>Prices</th>\n",
       "    </tr>\n",
       "  </thead>\n",
       "  <tbody>\n",
       "    <tr>\n",
       "      <th>0</th>\n",
       "      <td>1</td>\n",
       "      <td>Days Hotel By Wyndham Dubai Deira</td>\n",
       "      <td>Superior Queen Room, City View, 25% off Spa</td>\n",
       "      <td>No</td>\n",
       "      <td>No</td>\n",
       "      <td>10069</td>\n",
       "    </tr>\n",
       "    <tr>\n",
       "      <th>1</th>\n",
       "      <td>2</td>\n",
       "      <td>Four Points by Sheraton Sheikh Zayed Road</td>\n",
       "      <td>Classic Twin Room with Balcony - Complimentary...</td>\n",
       "      <td>No</td>\n",
       "      <td>No</td>\n",
       "      <td>29443</td>\n",
       "    </tr>\n",
       "    <tr>\n",
       "      <th>2</th>\n",
       "      <td>3</td>\n",
       "      <td>1 World Dubai</td>\n",
       "      <td>Single Bed in 4-Bed Dormitory Room</td>\n",
       "      <td>No</td>\n",
       "      <td>No</td>\n",
       "      <td>6772</td>\n",
       "    </tr>\n",
       "    <tr>\n",
       "      <th>3</th>\n",
       "      <td>4</td>\n",
       "      <td>Holiday Inn Express Dubai Airport, an IHG Hotel</td>\n",
       "      <td>Double Room Free Shuttle Bus to Airport Termin...</td>\n",
       "      <td>No</td>\n",
       "      <td>No</td>\n",
       "      <td>11302</td>\n",
       "    </tr>\n",
       "    <tr>\n",
       "      <th>4</th>\n",
       "      <td>5</td>\n",
       "      <td>One bedroom apartment with amazing pool view i...</td>\n",
       "      <td>One-Bedroom Apartment</td>\n",
       "      <td>No</td>\n",
       "      <td>No</td>\n",
       "      <td>13249</td>\n",
       "    </tr>\n",
       "  </tbody>\n",
       "</table>\n",
       "</div>"
      ],
      "text/plain": [
       "   Sno                                         Hotel Name  \\\n",
       "0    1                  Days Hotel By Wyndham Dubai Deira   \n",
       "1    2          Four Points by Sheraton Sheikh Zayed Road   \n",
       "2    3                                      1 World Dubai   \n",
       "3    4    Holiday Inn Express Dubai Airport, an IHG Hotel   \n",
       "4    5  One bedroom apartment with amazing pool view i...   \n",
       "\n",
       "                                           Room Type Doublebed Singlebed  \\\n",
       "0        Superior Queen Room, City View, 25% off Spa        No        No   \n",
       "1  Classic Twin Room with Balcony - Complimentary...        No        No   \n",
       "2                 Single Bed in 4-Bed Dormitory Room        No        No   \n",
       "3  Double Room Free Shuttle Bus to Airport Termin...        No        No   \n",
       "4                              One-Bedroom Apartment        No        No   \n",
       "\n",
       "   Prices  \n",
       "0   10069  \n",
       "1   29443  \n",
       "2    6772  \n",
       "3   11302  \n",
       "4   13249  "
      ]
     },
     "execution_count": 8,
     "metadata": {},
     "output_type": "execute_result"
    }
   ],
   "source": [
    "data3.head()"
   ]
  },
  {
   "cell_type": "code",
   "execution_count": 9,
   "metadata": {},
   "outputs": [
    {
     "data": {
      "text/plain": [
       "Index(['Room Type', 'Doublebed', 'Singlebed', 'Prices'], dtype='object')"
      ]
     },
     "execution_count": 9,
     "metadata": {},
     "output_type": "execute_result"
    }
   ],
   "source": [
    "data3.drop(['Sno','Hotel Name'], axis=1, inplace=True)\n",
    "data3.columns"
   ]
  },
  {
   "cell_type": "markdown",
   "metadata": {},
   "source": [
    "#### Concatenating the dataframes to make 1 dataframe"
   ]
  },
  {
   "cell_type": "code",
   "execution_count": 10,
   "metadata": {},
   "outputs": [],
   "source": [
    "# Concatenate horizontally (along columns)\n",
    "hotel_data = pd.concat([data1, data2, data3], axis=1)"
   ]
  },
  {
   "cell_type": "code",
   "execution_count": 11,
   "metadata": {},
   "outputs": [
    {
     "data": {
      "text/plain": [
       "(2750, 21)"
      ]
     },
     "execution_count": 11,
     "metadata": {},
     "output_type": "execute_result"
    }
   ],
   "source": [
    "hotel_data.shape"
   ]
  },
  {
   "cell_type": "code",
   "execution_count": 12,
   "metadata": {},
   "outputs": [
    {
     "data": {
      "text/plain": [
       "Index(['Hotel Name', 'City', 'Location', 'Number of Reviews', 'User Ratings',\n",
       "       'Star Rating', 'Review Score', 'Freewifi', 'Family Rooms',\n",
       "       'Non-Smoking Rooms', 'Restaurant', 'Bar', 'Heating', 'Lift',\n",
       "       'Breakfast Cuisine1', 'Breakfast Cuisine2', 'Breakfast Cuisine3',\n",
       "       'Room Type', 'Doublebed', 'Singlebed', 'Prices'],\n",
       "      dtype='object')"
      ]
     },
     "execution_count": 12,
     "metadata": {},
     "output_type": "execute_result"
    }
   ],
   "source": [
    "hotel_data.columns"
   ]
  },
  {
   "cell_type": "code",
   "execution_count": 13,
   "metadata": {},
   "outputs": [
    {
     "data": {
      "text/plain": [
       "Hotel Name            object\n",
       "City                  object\n",
       "Location              object\n",
       "Number of Reviews     object\n",
       "User Ratings          object\n",
       "Star Rating            int64\n",
       "Review Score          object\n",
       "Freewifi              object\n",
       "Family Rooms          object\n",
       "Non-Smoking Rooms     object\n",
       "Restaurant            object\n",
       "Bar                   object\n",
       "Heating               object\n",
       "Lift                  object\n",
       "Breakfast Cuisine1    object\n",
       "Breakfast Cuisine2    object\n",
       "Breakfast Cuisine3    object\n",
       "Room Type             object\n",
       "Doublebed             object\n",
       "Singlebed             object\n",
       "Prices                object\n",
       "dtype: object"
      ]
     },
     "execution_count": 13,
     "metadata": {},
     "output_type": "execute_result"
    }
   ],
   "source": [
    "# checking the dtypes of columns\n",
    "hotel_data.dtypes"
   ]
  },
  {
   "cell_type": "markdown",
   "metadata": {},
   "source": [
    "#### Data Cleaning"
   ]
  },
  {
   "cell_type": "markdown",
   "metadata": {},
   "source": [
    "We will change the Numberofreviews, Userratings, Prices column dtypes from object to int."
   ]
  },
  {
   "cell_type": "code",
   "execution_count": 14,
   "metadata": {},
   "outputs": [],
   "source": [
    "# Convert 'Number of reviews' , 'Prices' and 'User ratings' to int\n",
    "hotel_data['Number of Reviews'] = pd.to_numeric(hotel_data['Number of Reviews'].str.replace(',', ''), errors='coerce', downcast='integer').fillna(0)\n",
    "hotel_data['User Ratings'] = pd.to_numeric(hotel_data['User Ratings'], errors='coerce')\n",
    "hotel_data['Prices'] = pd.to_numeric(hotel_data['Prices'], errors='coerce')"
   ]
  },
  {
   "cell_type": "code",
   "execution_count": 15,
   "metadata": {},
   "outputs": [
    {
     "data": {
      "text/plain": [
       "Hotel Name             object\n",
       "City                   object\n",
       "Location               object\n",
       "Number of Reviews     float64\n",
       "User Ratings          float64\n",
       "Star Rating             int64\n",
       "Review Score           object\n",
       "Freewifi               object\n",
       "Family Rooms           object\n",
       "Non-Smoking Rooms      object\n",
       "Restaurant             object\n",
       "Bar                    object\n",
       "Heating                object\n",
       "Lift                   object\n",
       "Breakfast Cuisine1     object\n",
       "Breakfast Cuisine2     object\n",
       "Breakfast Cuisine3     object\n",
       "Room Type              object\n",
       "Doublebed              object\n",
       "Singlebed              object\n",
       "Prices                float64\n",
       "dtype: object"
      ]
     },
     "execution_count": 15,
     "metadata": {},
     "output_type": "execute_result"
    }
   ],
   "source": [
    "# checking the column dtypes again\n",
    "hotel_data.dtypes"
   ]
  },
  {
   "cell_type": "code",
   "execution_count": 16,
   "metadata": {},
   "outputs": [
    {
     "data": {
      "text/plain": [
       "Native Manchester                                        3\n",
       "One Bedroom at Manchester, Old Trafford                  3\n",
       "25hours Hotel Bikini Berlin                              2\n",
       "Gorgeous 4 bedroom house with indoor fireplace           2\n",
       "Downtown High-rise Condo- CN Tower View                  2\n",
       "                                                        ..\n",
       "Elsham Gardens Rooms - PnG Suite                         1\n",
       "The Edwardian Manchester, A Radisson Collection Hotel    1\n",
       "1 Bed Central Apt with Balcony and Free Parking          1\n",
       "Pillo Rooms - Abbey Grove                                1\n",
       "plat hostel keikyu asakusa karin                         1\n",
       "Name: Hotel Name, Length: 2590, dtype: int64"
      ]
     },
     "execution_count": 16,
     "metadata": {},
     "output_type": "execute_result"
    }
   ],
   "source": [
    "# checking the number of unique hotel names\n",
    "hotel_data['Hotel Name'].value_counts()"
   ]
  },
  {
   "cell_type": "markdown",
   "metadata": {},
   "source": [
    "This shows that many of the hotel are repeated in the datsett and only 2590 unique values are present. We will drop these duplicated values."
   ]
  },
  {
   "cell_type": "code",
   "execution_count": 17,
   "metadata": {},
   "outputs": [],
   "source": [
    "# dropping duplicates\n",
    "hotel_data.drop_duplicates(subset='Hotel Name', keep='first', inplace=True)"
   ]
  },
  {
   "cell_type": "code",
   "execution_count": 18,
   "metadata": {},
   "outputs": [
    {
     "data": {
      "text/plain": [
       "(2590, 21)"
      ]
     },
     "execution_count": 18,
     "metadata": {},
     "output_type": "execute_result"
    }
   ],
   "source": [
    "hotel_data.shape"
   ]
  },
  {
   "cell_type": "code",
   "execution_count": 19,
   "metadata": {},
   "outputs": [
    {
     "data": {
      "text/html": [
       "<div>\n",
       "<style scoped>\n",
       "    .dataframe tbody tr th:only-of-type {\n",
       "        vertical-align: middle;\n",
       "    }\n",
       "\n",
       "    .dataframe tbody tr th {\n",
       "        vertical-align: top;\n",
       "    }\n",
       "\n",
       "    .dataframe thead th {\n",
       "        text-align: right;\n",
       "    }\n",
       "</style>\n",
       "<table border=\"1\" class=\"dataframe\">\n",
       "  <thead>\n",
       "    <tr style=\"text-align: right;\">\n",
       "      <th></th>\n",
       "      <th>Hotel Name</th>\n",
       "      <th>City</th>\n",
       "      <th>Location</th>\n",
       "      <th>Number of Reviews</th>\n",
       "      <th>User Ratings</th>\n",
       "      <th>Star Rating</th>\n",
       "      <th>Review Score</th>\n",
       "      <th>Freewifi</th>\n",
       "      <th>Family Rooms</th>\n",
       "      <th>Non-Smoking Rooms</th>\n",
       "      <th>...</th>\n",
       "      <th>Bar</th>\n",
       "      <th>Heating</th>\n",
       "      <th>Lift</th>\n",
       "      <th>Breakfast Cuisine1</th>\n",
       "      <th>Breakfast Cuisine2</th>\n",
       "      <th>Breakfast Cuisine3</th>\n",
       "      <th>Room Type</th>\n",
       "      <th>Doublebed</th>\n",
       "      <th>Singlebed</th>\n",
       "      <th>Prices</th>\n",
       "    </tr>\n",
       "  </thead>\n",
       "  <tbody>\n",
       "    <tr>\n",
       "      <th>0</th>\n",
       "      <td>Days Hotel By Wyndham Dubai Deira</td>\n",
       "      <td>Dubai</td>\n",
       "      <td>One Deira Plaza Gold Souk Metro Station Al Cor...</td>\n",
       "      <td>4049.0</td>\n",
       "      <td>8.1</td>\n",
       "      <td>3</td>\n",
       "      <td>Very good</td>\n",
       "      <td>No</td>\n",
       "      <td>Yes</td>\n",
       "      <td>Yes</td>\n",
       "      <td>...</td>\n",
       "      <td>No</td>\n",
       "      <td>No</td>\n",
       "      <td>No</td>\n",
       "      <td>Continental,</td>\n",
       "      <td>Italian,</td>\n",
       "      <td>Full</td>\n",
       "      <td>Superior Queen Room, City View, 25% off Spa</td>\n",
       "      <td>No</td>\n",
       "      <td>No</td>\n",
       "      <td>10069.0</td>\n",
       "    </tr>\n",
       "    <tr>\n",
       "      <th>1</th>\n",
       "      <td>Four Points by Sheraton Sheikh Zayed Road</td>\n",
       "      <td>Dubai</td>\n",
       "      <td>Sheikh Zayed Road, Trade Centre, Dubai, United...</td>\n",
       "      <td>2926.0</td>\n",
       "      <td>8.4</td>\n",
       "      <td>4</td>\n",
       "      <td>Very good</td>\n",
       "      <td>No</td>\n",
       "      <td>Yes</td>\n",
       "      <td>Yes</td>\n",
       "      <td>...</td>\n",
       "      <td>Yes</td>\n",
       "      <td>No</td>\n",
       "      <td>Yes</td>\n",
       "      <td>Continental,</td>\n",
       "      <td>Vegetarian,</td>\n",
       "      <td>Halal,</td>\n",
       "      <td>Classic Twin Room with Balcony - Complimentary...</td>\n",
       "      <td>No</td>\n",
       "      <td>No</td>\n",
       "      <td>29443.0</td>\n",
       "    </tr>\n",
       "    <tr>\n",
       "      <th>2</th>\n",
       "      <td>1 World Dubai</td>\n",
       "      <td>Dubai</td>\n",
       "      <td>King Salman Bin Abdulaziz Al Saud Street Elite...</td>\n",
       "      <td>695.0</td>\n",
       "      <td>8.6</td>\n",
       "      <td>0</td>\n",
       "      <td>Fabulous</td>\n",
       "      <td>No</td>\n",
       "      <td>No</td>\n",
       "      <td>Yes</td>\n",
       "      <td>...</td>\n",
       "      <td>No</td>\n",
       "      <td>Yes</td>\n",
       "      <td>Yes</td>\n",
       "      <td>-</td>\n",
       "      <td>-</td>\n",
       "      <td>-</td>\n",
       "      <td>Single Bed in 4-Bed Dormitory Room</td>\n",
       "      <td>No</td>\n",
       "      <td>No</td>\n",
       "      <td>6772.0</td>\n",
       "    </tr>\n",
       "    <tr>\n",
       "      <th>3</th>\n",
       "      <td>Holiday Inn Express Dubai Airport, an IHG Hotel</td>\n",
       "      <td>Dubai</td>\n",
       "      <td>Airport Road, Garhoud, 35257 Dubai, United Ara...</td>\n",
       "      <td>16649.0</td>\n",
       "      <td>7.8</td>\n",
       "      <td>3</td>\n",
       "      <td>Good</td>\n",
       "      <td>No</td>\n",
       "      <td>No</td>\n",
       "      <td>Yes</td>\n",
       "      <td>...</td>\n",
       "      <td>Yes</td>\n",
       "      <td>No</td>\n",
       "      <td>Yes</td>\n",
       "      <td>Continental,</td>\n",
       "      <td>Italian,</td>\n",
       "      <td>Vegetarian,</td>\n",
       "      <td>Double Room Free Shuttle Bus to Airport Termin...</td>\n",
       "      <td>No</td>\n",
       "      <td>No</td>\n",
       "      <td>11302.0</td>\n",
       "    </tr>\n",
       "    <tr>\n",
       "      <th>4</th>\n",
       "      <td>One bedroom apartment with amazing pool view i...</td>\n",
       "      <td>Dubai</td>\n",
       "      <td>Apartment no 902, Building name tower 108, JVC...</td>\n",
       "      <td>0.0</td>\n",
       "      <td>NaN</td>\n",
       "      <td>0</td>\n",
       "      <td>-</td>\n",
       "      <td>No</td>\n",
       "      <td>Yes</td>\n",
       "      <td>No</td>\n",
       "      <td>...</td>\n",
       "      <td>No</td>\n",
       "      <td>Yes</td>\n",
       "      <td>Yes</td>\n",
       "      <td>-</td>\n",
       "      <td>-</td>\n",
       "      <td>-</td>\n",
       "      <td>One-Bedroom Apartment</td>\n",
       "      <td>No</td>\n",
       "      <td>No</td>\n",
       "      <td>13249.0</td>\n",
       "    </tr>\n",
       "  </tbody>\n",
       "</table>\n",
       "<p>5 rows × 21 columns</p>\n",
       "</div>"
      ],
      "text/plain": [
       "                                          Hotel Name   City  \\\n",
       "0                  Days Hotel By Wyndham Dubai Deira  Dubai   \n",
       "1          Four Points by Sheraton Sheikh Zayed Road  Dubai   \n",
       "2                                      1 World Dubai  Dubai   \n",
       "3    Holiday Inn Express Dubai Airport, an IHG Hotel  Dubai   \n",
       "4  One bedroom apartment with amazing pool view i...  Dubai   \n",
       "\n",
       "                                            Location  Number of Reviews  \\\n",
       "0  One Deira Plaza Gold Souk Metro Station Al Cor...             4049.0   \n",
       "1  Sheikh Zayed Road, Trade Centre, Dubai, United...             2926.0   \n",
       "2  King Salman Bin Abdulaziz Al Saud Street Elite...              695.0   \n",
       "3  Airport Road, Garhoud, 35257 Dubai, United Ara...            16649.0   \n",
       "4  Apartment no 902, Building name tower 108, JVC...                0.0   \n",
       "\n",
       "   User Ratings  Star Rating Review Score Freewifi Family Rooms  \\\n",
       "0           8.1            3    Very good       No          Yes   \n",
       "1           8.4            4    Very good       No          Yes   \n",
       "2           8.6            0     Fabulous       No           No   \n",
       "3           7.8            3         Good       No           No   \n",
       "4           NaN            0            -       No          Yes   \n",
       "\n",
       "  Non-Smoking Rooms  ...  Bar Heating Lift Breakfast Cuisine1  \\\n",
       "0               Yes  ...   No      No   No       Continental,   \n",
       "1               Yes  ...  Yes      No  Yes       Continental,   \n",
       "2               Yes  ...   No     Yes  Yes                  -   \n",
       "3               Yes  ...  Yes      No  Yes       Continental,   \n",
       "4                No  ...   No     Yes  Yes                  -   \n",
       "\n",
       "  Breakfast Cuisine2 Breakfast Cuisine3  \\\n",
       "0           Italian,               Full   \n",
       "1        Vegetarian,             Halal,   \n",
       "2                  -                  -   \n",
       "3           Italian,        Vegetarian,   \n",
       "4                  -                  -   \n",
       "\n",
       "                                           Room Type Doublebed Singlebed  \\\n",
       "0        Superior Queen Room, City View, 25% off Spa        No        No   \n",
       "1  Classic Twin Room with Balcony - Complimentary...        No        No   \n",
       "2                 Single Bed in 4-Bed Dormitory Room        No        No   \n",
       "3  Double Room Free Shuttle Bus to Airport Termin...        No        No   \n",
       "4                              One-Bedroom Apartment        No        No   \n",
       "\n",
       "    Prices  \n",
       "0  10069.0  \n",
       "1  29443.0  \n",
       "2   6772.0  \n",
       "3  11302.0  \n",
       "4  13249.0  \n",
       "\n",
       "[5 rows x 21 columns]"
      ]
     },
     "execution_count": 19,
     "metadata": {},
     "output_type": "execute_result"
    }
   ],
   "source": [
    "# Identify object columns and apply the strip method\n",
    "object_columns = hotel_data.select_dtypes(include=['object']).columns\n",
    "hotel_data[object_columns] = hotel_data[object_columns].apply(lambda x: x.str.strip() if x.dtype == \"object\" else x)\n",
    "\n",
    "# Display the cleaned DataFrame\n",
    "hotel_data.head()"
   ]
  },
  {
   "cell_type": "code",
   "execution_count": 20,
   "metadata": {},
   "outputs": [
    {
     "data": {
      "text/plain": [
       "Good             783\n",
       "Very good        762\n",
       "Fabulous         350\n",
       "Superb           180\n",
       "Pleasant         168\n",
       "-                155\n",
       "Exceptional       90\n",
       "Passable          67\n",
       "Disappointing     24\n",
       "Poor               5\n",
       "Bad                3\n",
       "Very poor          3\n",
       "Name: Review Score, dtype: int64"
      ]
     },
     "execution_count": 20,
     "metadata": {},
     "output_type": "execute_result"
    }
   ],
   "source": [
    "# checking for value counts for columns\n",
    "hotel_data['Review Score'].value_counts()"
   ]
  },
  {
   "cell_type": "code",
   "execution_count": 21,
   "metadata": {},
   "outputs": [
    {
     "data": {
      "text/plain": [
       "8.2    148\n",
       "8.1    128\n",
       "7.8    126\n",
       "8.3    124\n",
       "8.0    124\n",
       "      ... \n",
       "3.8      1\n",
       "3.4      1\n",
       "4.5      1\n",
       "3.7      1\n",
       "3.5      1\n",
       "Name: User Ratings, Length: 66, dtype: int64"
      ]
     },
     "execution_count": 21,
     "metadata": {},
     "output_type": "execute_result"
    }
   ],
   "source": [
    "hotel_data['User Ratings'].value_counts()"
   ]
  },
  {
   "cell_type": "markdown",
   "metadata": {},
   "source": [
    "We will fill the blank value in the Reviewscore column based on their Userratings column value"
   ]
  },
  {
   "cell_type": "code",
   "execution_count": 22,
   "metadata": {},
   "outputs": [],
   "source": [
    "# Define a function to map '-' values based on 'Userratings'\n",
    "def map_reviewscore(row):\n",
    "    if row['Review Score'] == '-':\n",
    "        if row['User Ratings'] >= 7.0:\n",
    "            return 'Very good'\n",
    "        elif 3.5 <= row['User Ratings'] < 6.9:\n",
    "            return 'Good'\n",
    "        else:\n",
    "            return 'Bad'\n",
    "    return row['Review Score']\n",
    "\n",
    "# Apply the function to update 'Reviewscore'\n",
    "hotel_data['Review Score'] = hotel_data.apply(map_reviewscore, axis=1)"
   ]
  },
  {
   "cell_type": "code",
   "execution_count": 23,
   "metadata": {},
   "outputs": [
    {
     "data": {
      "text/plain": [
       "Good             783\n",
       "Very good        762\n",
       "Fabulous         350\n",
       "Superb           180\n",
       "Pleasant         168\n",
       "Bad              158\n",
       "Exceptional       90\n",
       "Passable          67\n",
       "Disappointing     24\n",
       "Poor               5\n",
       "Very poor          3\n",
       "Name: Review Score, dtype: int64"
      ]
     },
     "execution_count": 23,
     "metadata": {},
     "output_type": "execute_result"
    }
   ],
   "source": [
    "# checking the value counts of reviewscore column again\n",
    "hotel_data['Review Score'].value_counts()"
   ]
  },
  {
   "cell_type": "code",
   "execution_count": 24,
   "metadata": {},
   "outputs": [],
   "source": [
    "hotel_data['Review Score'] = hotel_data['Review Score'].replace(['Passable', 'Very poor'], 'Poor')"
   ]
  },
  {
   "cell_type": "code",
   "execution_count": 25,
   "metadata": {},
   "outputs": [
    {
     "data": {
      "text/plain": [
       "4    920\n",
       "3    776\n",
       "0    504\n",
       "5    270\n",
       "2    100\n",
       "1     20\n",
       "Name: Star Rating, dtype: int64"
      ]
     },
     "execution_count": 25,
     "metadata": {},
     "output_type": "execute_result"
    }
   ],
   "source": [
    "hotel_data['Star Rating'].value_counts()"
   ]
  },
  {
   "cell_type": "code",
   "execution_count": 26,
   "metadata": {},
   "outputs": [
    {
     "data": {
      "text/plain": [
       "No    2590\n",
       "Name: Freewifi, dtype: int64"
      ]
     },
     "execution_count": 26,
     "metadata": {},
     "output_type": "execute_result"
    }
   ],
   "source": [
    "hotel_data['Freewifi'].value_counts()"
   ]
  },
  {
   "cell_type": "code",
   "execution_count": 27,
   "metadata": {},
   "outputs": [
    {
     "data": {
      "text/plain": [
       "Yes    1495\n",
       "No     1095\n",
       "Name: Family Rooms, dtype: int64"
      ]
     },
     "execution_count": 27,
     "metadata": {},
     "output_type": "execute_result"
    }
   ],
   "source": [
    "hotel_data['Family Rooms'].value_counts()"
   ]
  },
  {
   "cell_type": "code",
   "execution_count": 28,
   "metadata": {},
   "outputs": [
    {
     "data": {
      "text/plain": [
       "Yes    2195\n",
       "No      395\n",
       "Name: Non-Smoking Rooms, dtype: int64"
      ]
     },
     "execution_count": 28,
     "metadata": {},
     "output_type": "execute_result"
    }
   ],
   "source": [
    "hotel_data['Non-Smoking Rooms'].value_counts()"
   ]
  },
  {
   "cell_type": "code",
   "execution_count": 29,
   "metadata": {},
   "outputs": [
    {
     "data": {
      "text/plain": [
       "No     1481\n",
       "Yes    1109\n",
       "Name: Bar, dtype: int64"
      ]
     },
     "execution_count": 29,
     "metadata": {},
     "output_type": "execute_result"
    }
   ],
   "source": [
    "hotel_data['Bar'].value_counts()"
   ]
  },
  {
   "cell_type": "code",
   "execution_count": 30,
   "metadata": {},
   "outputs": [
    {
     "data": {
      "text/plain": [
       "No    2590\n",
       "Name: Restaurant, dtype: int64"
      ]
     },
     "execution_count": 30,
     "metadata": {},
     "output_type": "execute_result"
    }
   ],
   "source": [
    "hotel_data['Restaurant'].value_counts()"
   ]
  },
  {
   "cell_type": "code",
   "execution_count": 31,
   "metadata": {},
   "outputs": [
    {
     "data": {
      "text/plain": [
       "Yes    2176\n",
       "No      414\n",
       "Name: Heating, dtype: int64"
      ]
     },
     "execution_count": 31,
     "metadata": {},
     "output_type": "execute_result"
    }
   ],
   "source": [
    "hotel_data['Heating'].value_counts()"
   ]
  },
  {
   "cell_type": "code",
   "execution_count": 32,
   "metadata": {},
   "outputs": [
    {
     "data": {
      "text/plain": [
       "Yes    1750\n",
       "No      840\n",
       "Name: Lift, dtype: int64"
      ]
     },
     "execution_count": 32,
     "metadata": {},
     "output_type": "execute_result"
    }
   ],
   "source": [
    "hotel_data['Lift'].value_counts()"
   ]
  },
  {
   "cell_type": "code",
   "execution_count": 33,
   "metadata": {},
   "outputs": [
    {
     "data": {
      "text/plain": [
       "-               1403\n",
       "Continental,     533\n",
       "Continental      272\n",
       "Full             128\n",
       "Buffet            70\n",
       "Vegetarian,       67\n",
       "American          39\n",
       "Asian,            19\n",
       "Asian             14\n",
       "Halal,            11\n",
       "Breakfast         10\n",
       "Vegetarian         5\n",
       "Halal              4\n",
       "Gluten-free        4\n",
       "Vegan,             2\n",
       "Gluten-free,       2\n",
       "American,          2\n",
       "Italian,           2\n",
       "Buffet,            1\n",
       "Vegan              1\n",
       "Italian            1\n",
       "Name: Breakfast Cuisine1, dtype: int64"
      ]
     },
     "execution_count": 33,
     "metadata": {},
     "output_type": "execute_result"
    }
   ],
   "source": [
    "hotel_data['Breakfast Cuisine1'].value_counts()"
   ]
  },
  {
   "cell_type": "code",
   "execution_count": 34,
   "metadata": {},
   "outputs": [],
   "source": [
    "# removing ',' from BreakfastCuisine1 value\n",
    "hotel_data['Breakfast Cuisine1'] = hotel_data['Breakfast Cuisine1'].str.replace(',', '')"
   ]
  },
  {
   "cell_type": "code",
   "execution_count": 35,
   "metadata": {},
   "outputs": [
    {
     "data": {
      "text/plain": [
       "-              1403\n",
       "Continental     805\n",
       "Full            128\n",
       "Vegetarian       72\n",
       "Buffet           71\n",
       "American         41\n",
       "Asian            33\n",
       "Halal            15\n",
       "Breakfast        10\n",
       "Gluten-free       6\n",
       "Vegan             3\n",
       "Italian           3\n",
       "Name: Breakfast Cuisine1, dtype: int64"
      ]
     },
     "execution_count": 35,
     "metadata": {},
     "output_type": "execute_result"
    }
   ],
   "source": [
    "hotel_data['Breakfast Cuisine1'].value_counts()"
   ]
  },
  {
   "cell_type": "code",
   "execution_count": 36,
   "metadata": {},
   "outputs": [],
   "source": [
    "# replace '-' with 'Continental' since it is the most common breakfast option available\n",
    "hotel_data['Breakfast Cuisine1'] = hotel_data['Breakfast Cuisine1'].replace('-','Continental')"
   ]
  },
  {
   "cell_type": "code",
   "execution_count": 37,
   "metadata": {},
   "outputs": [
    {
     "data": {
      "text/plain": [
       "-                 1813\n",
       "Full               192\n",
       "Vegetarian,        161\n",
       "English/Irish,      66\n",
       "English/Irish       62\n",
       "American            59\n",
       "Buffet              36\n",
       "Vegan,              35\n",
       "Gluten-free         31\n",
       "Italian,            25\n",
       "Vegetarian          21\n",
       "Halal,              16\n",
       "Asian,              15\n",
       "Gluten-free,        13\n",
       "to                  10\n",
       "Halal                9\n",
       "Asian                8\n",
       "Breakfast            6\n",
       "Vegan                6\n",
       "American,            5\n",
       "Italian              1\n",
       "Name: Breakfast Cuisine2, dtype: int64"
      ]
     },
     "execution_count": 37,
     "metadata": {},
     "output_type": "execute_result"
    }
   ],
   "source": [
    "hotel_data['Breakfast Cuisine2'].value_counts()"
   ]
  },
  {
   "cell_type": "code",
   "execution_count": 38,
   "metadata": {},
   "outputs": [
    {
     "data": {
      "text/plain": [
       "-                1813\n",
       "Full              192\n",
       "Vegetarian        182\n",
       "English/Irish     128\n",
       "American           64\n",
       "Gluten-free        44\n",
       "Vegan              41\n",
       "Buffet             36\n",
       "Italian            26\n",
       "Halal              25\n",
       "Asian              23\n",
       "to                 10\n",
       "Breakfast           6\n",
       "Name: Breakfast Cuisine2, dtype: int64"
      ]
     },
     "execution_count": 38,
     "metadata": {},
     "output_type": "execute_result"
    }
   ],
   "source": [
    "# removing ',' from BreakfastCuisine2 value\n",
    "hotel_data['Breakfast Cuisine2'] = hotel_data['Breakfast Cuisine2'].str.replace(',', '')\n",
    "hotel_data['Breakfast Cuisine2'].value_counts()"
   ]
  },
  {
   "cell_type": "code",
   "execution_count": 39,
   "metadata": {},
   "outputs": [
    {
     "data": {
      "text/plain": [
       "-                 2046\n",
       "English/Irish,     156\n",
       "Vegan,              63\n",
       "Vegetarian,         49\n",
       "Gluten-free         46\n",
       "Halal,              40\n",
       "American            37\n",
       "English/Irish       36\n",
       "Gluten-free,        24\n",
       "Buffet              17\n",
       "Full                16\n",
       "Vegetarian          10\n",
       "go                  10\n",
       "Vegan                9\n",
       "Halal                7\n",
       "Asian,               7\n",
       "to                   6\n",
       "Asian                5\n",
       "American,            3\n",
       "Breakfast            2\n",
       "Buffet,              1\n",
       "Name: Breakfast Cuisine3, dtype: int64"
      ]
     },
     "execution_count": 39,
     "metadata": {},
     "output_type": "execute_result"
    }
   ],
   "source": [
    "hotel_data['Breakfast Cuisine3'].value_counts()"
   ]
  },
  {
   "cell_type": "code",
   "execution_count": 40,
   "metadata": {},
   "outputs": [
    {
     "data": {
      "text/plain": [
       "-                2046\n",
       "English/Irish     192\n",
       "Vegan              72\n",
       "Gluten-free        70\n",
       "Vegetarian         59\n",
       "Halal              47\n",
       "American           40\n",
       "Buffet             18\n",
       "Full               16\n",
       "Asian              12\n",
       "go                 10\n",
       "to                  6\n",
       "Breakfast           2\n",
       "Name: Breakfast Cuisine3, dtype: int64"
      ]
     },
     "execution_count": 40,
     "metadata": {},
     "output_type": "execute_result"
    }
   ],
   "source": [
    "# removing ',' from BreakfastCuisine3 value\n",
    "hotel_data['Breakfast Cuisine3'] = hotel_data['Breakfast Cuisine3'].str.replace(',', '')\n",
    "hotel_data['Breakfast Cuisine3'].value_counts()"
   ]
  },
  {
   "cell_type": "markdown",
   "metadata": {},
   "source": [
    "We can see that most of the values in these two columns 'BreakfastCuisine2' and 'BreakfastCuisine3' are balnk. so we will drop the columns."
   ]
  },
  {
   "cell_type": "code",
   "execution_count": 41,
   "metadata": {},
   "outputs": [],
   "source": [
    "hotel_data.drop(['Breakfast Cuisine2','Breakfast Cuisine3'], axis=1, inplace=True)"
   ]
  },
  {
   "cell_type": "code",
   "execution_count": 42,
   "metadata": {},
   "outputs": [
    {
     "data": {
      "text/plain": [
       "No    2590\n",
       "Name: Doublebed, dtype: int64"
      ]
     },
     "execution_count": 42,
     "metadata": {},
     "output_type": "execute_result"
    }
   ],
   "source": [
    "hotel_data['Doublebed'].value_counts()"
   ]
  },
  {
   "cell_type": "code",
   "execution_count": 43,
   "metadata": {},
   "outputs": [
    {
     "data": {
      "text/plain": [
       "No    2590\n",
       "Name: Singlebed, dtype: int64"
      ]
     },
     "execution_count": 43,
     "metadata": {},
     "output_type": "execute_result"
    }
   ],
   "source": [
    "hotel_data['Singlebed'].value_counts()"
   ]
  },
  {
   "cell_type": "code",
   "execution_count": 44,
   "metadata": {},
   "outputs": [],
   "source": [
    "# dropping the doublebed, singlebed, freewifi and restaurant column since they contain only single value\n",
    "hotel_data.drop(['Doublebed', 'Singlebed', 'Freewifi', 'Restaurant'], axis=1, inplace=True)"
   ]
  },
  {
   "cell_type": "code",
   "execution_count": 45,
   "metadata": {},
   "outputs": [
    {
     "data": {
      "text/plain": [
       "Index(['Hotel Name', 'City', 'Location', 'Number of Reviews', 'User Ratings',\n",
       "       'Star Rating', 'Review Score', 'Family Rooms', 'Non-Smoking Rooms',\n",
       "       'Bar', 'Heating', 'Lift', 'Breakfast Cuisine1', 'Room Type', 'Prices'],\n",
       "      dtype='object')"
      ]
     },
     "execution_count": 45,
     "metadata": {},
     "output_type": "execute_result"
    }
   ],
   "source": [
    "hotel_data.columns"
   ]
  },
  {
   "cell_type": "code",
   "execution_count": 46,
   "metadata": {},
   "outputs": [
    {
     "data": {
      "text/plain": [
       "Paris           250\n",
       "Berlin          247\n",
       "London          243\n",
       "Tokyo           242\n",
       "Melbourne       233\n",
       "Dubai           232\n",
       "Kuala Lumpur    232\n",
       "Birmingham      232\n",
       "Sydney          232\n",
       "Manchester      227\n",
       "Toronto         219\n",
       "-                 1\n",
       "Name: City, dtype: int64"
      ]
     },
     "execution_count": 46,
     "metadata": {},
     "output_type": "execute_result"
    }
   ],
   "source": [
    "# value counts for city column\n",
    "hotel_data['City'].value_counts()"
   ]
  },
  {
   "cell_type": "markdown",
   "metadata": {},
   "source": [
    "#### EDA"
   ]
  },
  {
   "cell_type": "code",
   "execution_count": 47,
   "metadata": {},
   "outputs": [
    {
     "data": {
      "text/plain": [
       "(2590, 15)"
      ]
     },
     "execution_count": 47,
     "metadata": {},
     "output_type": "execute_result"
    }
   ],
   "source": [
    "hotel_data.shape"
   ]
  },
  {
   "cell_type": "code",
   "execution_count": 48,
   "metadata": {},
   "outputs": [
    {
     "data": {
      "text/plain": [
       "Hotel Name              0\n",
       "City                    0\n",
       "Location                0\n",
       "Number of Reviews       0\n",
       "User Ratings          155\n",
       "Star Rating             0\n",
       "Review Score            0\n",
       "Family Rooms            0\n",
       "Non-Smoking Rooms       0\n",
       "Bar                     0\n",
       "Heating                 0\n",
       "Lift                    0\n",
       "Breakfast Cuisine1      0\n",
       "Room Type               0\n",
       "Prices                 13\n",
       "dtype: int64"
      ]
     },
     "execution_count": 48,
     "metadata": {},
     "output_type": "execute_result"
    }
   ],
   "source": [
    "# checking for Nan values\n",
    "hotel_data.isnull().sum()"
   ]
  },
  {
   "cell_type": "code",
   "execution_count": 49,
   "metadata": {},
   "outputs": [
    {
     "data": {
      "text/html": [
       "<div>\n",
       "<style scoped>\n",
       "    .dataframe tbody tr th:only-of-type {\n",
       "        vertical-align: middle;\n",
       "    }\n",
       "\n",
       "    .dataframe tbody tr th {\n",
       "        vertical-align: top;\n",
       "    }\n",
       "\n",
       "    .dataframe thead th {\n",
       "        text-align: right;\n",
       "    }\n",
       "</style>\n",
       "<table border=\"1\" class=\"dataframe\">\n",
       "  <thead>\n",
       "    <tr style=\"text-align: right;\">\n",
       "      <th></th>\n",
       "      <th>Hotel Name</th>\n",
       "      <th>City</th>\n",
       "      <th>Location</th>\n",
       "      <th>Number of Reviews</th>\n",
       "      <th>User Ratings</th>\n",
       "      <th>Star Rating</th>\n",
       "      <th>Review Score</th>\n",
       "      <th>Family Rooms</th>\n",
       "      <th>Non-Smoking Rooms</th>\n",
       "      <th>Bar</th>\n",
       "      <th>Heating</th>\n",
       "      <th>Lift</th>\n",
       "      <th>Breakfast Cuisine1</th>\n",
       "      <th>Room Type</th>\n",
       "      <th>Prices</th>\n",
       "    </tr>\n",
       "  </thead>\n",
       "  <tbody>\n",
       "    <tr>\n",
       "      <th>4</th>\n",
       "      <td>One bedroom apartment with amazing pool view i...</td>\n",
       "      <td>Dubai</td>\n",
       "      <td>Apartment no 902, Building name tower 108, JVC...</td>\n",
       "      <td>0.0</td>\n",
       "      <td>NaN</td>\n",
       "      <td>0</td>\n",
       "      <td>Bad</td>\n",
       "      <td>Yes</td>\n",
       "      <td>No</td>\n",
       "      <td>No</td>\n",
       "      <td>Yes</td>\n",
       "      <td>Yes</td>\n",
       "      <td>Continental</td>\n",
       "      <td>One-Bedroom Apartment</td>\n",
       "      <td>13249.0</td>\n",
       "    </tr>\n",
       "    <tr>\n",
       "      <th>15</th>\n",
       "      <td>Damac Tower 108 - JVC - 1BHK - Ezytrac Vacatio...</td>\n",
       "      <td>Dubai</td>\n",
       "      <td>Tower 108, Dubai, United Arab Emirates</td>\n",
       "      <td>0.0</td>\n",
       "      <td>NaN</td>\n",
       "      <td>4</td>\n",
       "      <td>Bad</td>\n",
       "      <td>No</td>\n",
       "      <td>No</td>\n",
       "      <td>No</td>\n",
       "      <td>No</td>\n",
       "      <td>Yes</td>\n",
       "      <td>Continental</td>\n",
       "      <td>One-Bedroom Apartment</td>\n",
       "      <td>6088.0</td>\n",
       "    </tr>\n",
       "    <tr>\n",
       "      <th>25</th>\n",
       "      <td>Modern Urban Escape Studio Gem</td>\n",
       "      <td>Dubai</td>\n",
       "      <td>2/1, 6 Street, Dubailand Residence Complex, Wa...</td>\n",
       "      <td>0.0</td>\n",
       "      <td>NaN</td>\n",
       "      <td>0</td>\n",
       "      <td>Bad</td>\n",
       "      <td>No</td>\n",
       "      <td>No</td>\n",
       "      <td>No</td>\n",
       "      <td>No</td>\n",
       "      <td>Yes</td>\n",
       "      <td>Continental</td>\n",
       "      <td>Queen Studio</td>\n",
       "      <td>7474.0</td>\n",
       "    </tr>\n",
       "    <tr>\n",
       "      <th>26</th>\n",
       "      <td>Newly Built Luxury Apt - Pool</td>\n",
       "      <td>Dubai</td>\n",
       "      <td>2/1, 6 Street, Dubailand Residence Complex, Wa...</td>\n",
       "      <td>0.0</td>\n",
       "      <td>NaN</td>\n",
       "      <td>4</td>\n",
       "      <td>Bad</td>\n",
       "      <td>No</td>\n",
       "      <td>No</td>\n",
       "      <td>No</td>\n",
       "      <td>Yes</td>\n",
       "      <td>No</td>\n",
       "      <td>Continental</td>\n",
       "      <td>Holiday Home</td>\n",
       "      <td>7474.0</td>\n",
       "    </tr>\n",
       "    <tr>\n",
       "      <th>28</th>\n",
       "      <td>花仙子</td>\n",
       "      <td>Dubai</td>\n",
       "      <td>International city phase 2, Dubai, United Arab...</td>\n",
       "      <td>0.0</td>\n",
       "      <td>NaN</td>\n",
       "      <td>0</td>\n",
       "      <td>Bad</td>\n",
       "      <td>No</td>\n",
       "      <td>No</td>\n",
       "      <td>No</td>\n",
       "      <td>No</td>\n",
       "      <td>No</td>\n",
       "      <td>Continental</td>\n",
       "      <td>One-Bedroom Apartment</td>\n",
       "      <td>5707.0</td>\n",
       "    </tr>\n",
       "    <tr>\n",
       "      <th>...</th>\n",
       "      <td>...</td>\n",
       "      <td>...</td>\n",
       "      <td>...</td>\n",
       "      <td>...</td>\n",
       "      <td>...</td>\n",
       "      <td>...</td>\n",
       "      <td>...</td>\n",
       "      <td>...</td>\n",
       "      <td>...</td>\n",
       "      <td>...</td>\n",
       "      <td>...</td>\n",
       "      <td>...</td>\n",
       "      <td>...</td>\n",
       "      <td>...</td>\n",
       "      <td>...</td>\n",
       "    </tr>\n",
       "    <tr>\n",
       "      <th>2451</th>\n",
       "      <td>4 Bedroom 3 bathroom 6 queen bed 5 full floor ...</td>\n",
       "      <td>Toronto</td>\n",
       "      <td>113 Markham Street, M6J 2G4 Toronto, Canada</td>\n",
       "      <td>0.0</td>\n",
       "      <td>NaN</td>\n",
       "      <td>3</td>\n",
       "      <td>Bad</td>\n",
       "      <td>Yes</td>\n",
       "      <td>No</td>\n",
       "      <td>No</td>\n",
       "      <td>Yes</td>\n",
       "      <td>No</td>\n",
       "      <td>Continental</td>\n",
       "      <td>Four-Bedroom House</td>\n",
       "      <td>27161.0</td>\n",
       "    </tr>\n",
       "    <tr>\n",
       "      <th>2463</th>\n",
       "      <td>Downtown Toronto Jewel: Captivating Skyline View!</td>\n",
       "      <td>Toronto</td>\n",
       "      <td>75 Queens Wharf Road, M5V 0J8 Toronto, Canada</td>\n",
       "      <td>0.0</td>\n",
       "      <td>NaN</td>\n",
       "      <td>3</td>\n",
       "      <td>Bad</td>\n",
       "      <td>Yes</td>\n",
       "      <td>Yes</td>\n",
       "      <td>No</td>\n",
       "      <td>Yes</td>\n",
       "      <td>Yes</td>\n",
       "      <td>Continental</td>\n",
       "      <td>One-Bedroom Apartment</td>\n",
       "      <td>14447.0</td>\n",
       "    </tr>\n",
       "    <tr>\n",
       "      <th>2529</th>\n",
       "      <td>Mercure Tokyo Haneda Airport</td>\n",
       "      <td>Tokyo</td>\n",
       "      <td>144-0043 Tokyo-to, Ota-ku Haneda 1-2-11, Japan</td>\n",
       "      <td>0.0</td>\n",
       "      <td>NaN</td>\n",
       "      <td>4</td>\n",
       "      <td>Bad</td>\n",
       "      <td>No</td>\n",
       "      <td>Yes</td>\n",
       "      <td>Yes</td>\n",
       "      <td>Yes</td>\n",
       "      <td>Yes</td>\n",
       "      <td>Buffet</td>\n",
       "      <td>Superior King Room - Non-smoking</td>\n",
       "      <td>9155.0</td>\n",
       "    </tr>\n",
       "    <tr>\n",
       "      <th>2530</th>\n",
       "      <td>Lucky Hotel</td>\n",
       "      <td>Tokyo</td>\n",
       "      <td>169-0073 Tokyo-to, 百人町１-17-13, Japan</td>\n",
       "      <td>0.0</td>\n",
       "      <td>NaN</td>\n",
       "      <td>0</td>\n",
       "      <td>Bad</td>\n",
       "      <td>No</td>\n",
       "      <td>Yes</td>\n",
       "      <td>No</td>\n",
       "      <td>No</td>\n",
       "      <td>No</td>\n",
       "      <td>Continental</td>\n",
       "      <td>Small Double Room</td>\n",
       "      <td>3496.0</td>\n",
       "    </tr>\n",
       "    <tr>\n",
       "      <th>2740</th>\n",
       "      <td>SLEEPLAB THE STAY 西新宿Annex【睡眠特化型ホテル】</td>\n",
       "      <td>Tokyo</td>\n",
       "      <td>164-0014 Tokyo-to, 東京都中野区南台1-5-8 401号室, Japan</td>\n",
       "      <td>0.0</td>\n",
       "      <td>NaN</td>\n",
       "      <td>0</td>\n",
       "      <td>Bad</td>\n",
       "      <td>No</td>\n",
       "      <td>Yes</td>\n",
       "      <td>No</td>\n",
       "      <td>Yes</td>\n",
       "      <td>No</td>\n",
       "      <td>Continental</td>\n",
       "      <td>One-Bedroom Apartment</td>\n",
       "      <td>8323.0</td>\n",
       "    </tr>\n",
       "  </tbody>\n",
       "</table>\n",
       "<p>155 rows × 15 columns</p>\n",
       "</div>"
      ],
      "text/plain": [
       "                                             Hotel Name     City  \\\n",
       "4     One bedroom apartment with amazing pool view i...    Dubai   \n",
       "15    Damac Tower 108 - JVC - 1BHK - Ezytrac Vacatio...    Dubai   \n",
       "25                       Modern Urban Escape Studio Gem    Dubai   \n",
       "26                        Newly Built Luxury Apt - Pool    Dubai   \n",
       "28                                                  花仙子    Dubai   \n",
       "...                                                 ...      ...   \n",
       "2451  4 Bedroom 3 bathroom 6 queen bed 5 full floor ...  Toronto   \n",
       "2463  Downtown Toronto Jewel: Captivating Skyline View!  Toronto   \n",
       "2529                       Mercure Tokyo Haneda Airport    Tokyo   \n",
       "2530                                        Lucky Hotel    Tokyo   \n",
       "2740               SLEEPLAB THE STAY 西新宿Annex【睡眠特化型ホテル】    Tokyo   \n",
       "\n",
       "                                               Location  Number of Reviews  \\\n",
       "4     Apartment no 902, Building name tower 108, JVC...                0.0   \n",
       "15               Tower 108, Dubai, United Arab Emirates                0.0   \n",
       "25    2/1, 6 Street, Dubailand Residence Complex, Wa...                0.0   \n",
       "26    2/1, 6 Street, Dubailand Residence Complex, Wa...                0.0   \n",
       "28    International city phase 2, Dubai, United Arab...                0.0   \n",
       "...                                                 ...                ...   \n",
       "2451        113 Markham Street, M6J 2G4 Toronto, Canada                0.0   \n",
       "2463      75 Queens Wharf Road, M5V 0J8 Toronto, Canada                0.0   \n",
       "2529     144-0043 Tokyo-to, Ota-ku Haneda 1-2-11, Japan                0.0   \n",
       "2530               169-0073 Tokyo-to, 百人町１-17-13, Japan                0.0   \n",
       "2740      164-0014 Tokyo-to, 東京都中野区南台1-5-8 401号室, Japan                0.0   \n",
       "\n",
       "      User Ratings  Star Rating Review Score Family Rooms Non-Smoking Rooms  \\\n",
       "4              NaN            0          Bad          Yes                No   \n",
       "15             NaN            4          Bad           No                No   \n",
       "25             NaN            0          Bad           No                No   \n",
       "26             NaN            4          Bad           No                No   \n",
       "28             NaN            0          Bad           No                No   \n",
       "...            ...          ...          ...          ...               ...   \n",
       "2451           NaN            3          Bad          Yes                No   \n",
       "2463           NaN            3          Bad          Yes               Yes   \n",
       "2529           NaN            4          Bad           No               Yes   \n",
       "2530           NaN            0          Bad           No               Yes   \n",
       "2740           NaN            0          Bad           No               Yes   \n",
       "\n",
       "      Bar Heating Lift Breakfast Cuisine1                         Room Type  \\\n",
       "4      No     Yes  Yes        Continental             One-Bedroom Apartment   \n",
       "15     No      No  Yes        Continental             One-Bedroom Apartment   \n",
       "25     No      No  Yes        Continental                      Queen Studio   \n",
       "26     No     Yes   No        Continental                      Holiday Home   \n",
       "28     No      No   No        Continental             One-Bedroom Apartment   \n",
       "...   ...     ...  ...                ...                               ...   \n",
       "2451   No     Yes   No        Continental                Four-Bedroom House   \n",
       "2463   No     Yes  Yes        Continental             One-Bedroom Apartment   \n",
       "2529  Yes     Yes  Yes             Buffet  Superior King Room - Non-smoking   \n",
       "2530   No      No   No        Continental                 Small Double Room   \n",
       "2740   No     Yes   No        Continental             One-Bedroom Apartment   \n",
       "\n",
       "       Prices  \n",
       "4     13249.0  \n",
       "15     6088.0  \n",
       "25     7474.0  \n",
       "26     7474.0  \n",
       "28     5707.0  \n",
       "...       ...  \n",
       "2451  27161.0  \n",
       "2463  14447.0  \n",
       "2529   9155.0  \n",
       "2530   3496.0  \n",
       "2740   8323.0  \n",
       "\n",
       "[155 rows x 15 columns]"
      ]
     },
     "execution_count": 49,
     "metadata": {},
     "output_type": "execute_result"
    }
   ],
   "source": [
    "hotel_data[hotel_data['User Ratings'].isna()]"
   ]
  },
  {
   "cell_type": "markdown",
   "metadata": {},
   "source": [
    "we can see that the Reviewscore for hotel with Nan Userratings is bad. We will replace this nan value with a rating of 3."
   ]
  },
  {
   "cell_type": "code",
   "execution_count": 50,
   "metadata": {},
   "outputs": [],
   "source": [
    "# Fill missing values in 'Userratings' with 3\n",
    "hotel_data['User Ratings'] = hotel_data['User Ratings'].fillna(3)"
   ]
  },
  {
   "cell_type": "code",
   "execution_count": 51,
   "metadata": {},
   "outputs": [
    {
     "data": {
      "text/html": [
       "<div>\n",
       "<style scoped>\n",
       "    .dataframe tbody tr th:only-of-type {\n",
       "        vertical-align: middle;\n",
       "    }\n",
       "\n",
       "    .dataframe tbody tr th {\n",
       "        vertical-align: top;\n",
       "    }\n",
       "\n",
       "    .dataframe thead th {\n",
       "        text-align: right;\n",
       "    }\n",
       "</style>\n",
       "<table border=\"1\" class=\"dataframe\">\n",
       "  <thead>\n",
       "    <tr style=\"text-align: right;\">\n",
       "      <th></th>\n",
       "      <th>Hotel Name</th>\n",
       "      <th>City</th>\n",
       "      <th>Location</th>\n",
       "      <th>Number of Reviews</th>\n",
       "      <th>User Ratings</th>\n",
       "      <th>Star Rating</th>\n",
       "      <th>Review Score</th>\n",
       "      <th>Family Rooms</th>\n",
       "      <th>Non-Smoking Rooms</th>\n",
       "      <th>Bar</th>\n",
       "      <th>Heating</th>\n",
       "      <th>Lift</th>\n",
       "      <th>Breakfast Cuisine1</th>\n",
       "      <th>Room Type</th>\n",
       "      <th>Prices</th>\n",
       "    </tr>\n",
       "  </thead>\n",
       "  <tbody>\n",
       "    <tr>\n",
       "      <th>1965</th>\n",
       "      <td>-</td>\n",
       "      <td>-</td>\n",
       "      <td>-</td>\n",
       "      <td>0.0</td>\n",
       "      <td>3.0</td>\n",
       "      <td>0</td>\n",
       "      <td>Bad</td>\n",
       "      <td>No</td>\n",
       "      <td>No</td>\n",
       "      <td>No</td>\n",
       "      <td>No</td>\n",
       "      <td>No</td>\n",
       "      <td>Continental</td>\n",
       "      <td>-</td>\n",
       "      <td>NaN</td>\n",
       "    </tr>\n",
       "  </tbody>\n",
       "</table>\n",
       "</div>"
      ],
      "text/plain": [
       "     Hotel Name City Location  Number of Reviews  User Ratings  Star Rating  \\\n",
       "1965          -    -        -                0.0           3.0            0   \n",
       "\n",
       "     Review Score Family Rooms Non-Smoking Rooms Bar Heating Lift  \\\n",
       "1965          Bad           No                No  No      No   No   \n",
       "\n",
       "     Breakfast Cuisine1 Room Type  Prices  \n",
       "1965        Continental         -     NaN  "
      ]
     },
     "execution_count": 51,
     "metadata": {},
     "output_type": "execute_result"
    }
   ],
   "source": [
    "hotel_data[(hotel_data['City'] == '-') | hotel_data['City'].isna()]"
   ]
  },
  {
   "cell_type": "markdown",
   "metadata": {},
   "source": [
    "We will drop the row with city name = '-' and replace the null value with 'Melbourne'."
   ]
  },
  {
   "cell_type": "code",
   "execution_count": 52,
   "metadata": {},
   "outputs": [],
   "source": [
    "# Drop rows where city is '-'\n",
    "hotel_data = hotel_data.drop(hotel_data[hotel_data['City'] == '-'].index)"
   ]
  },
  {
   "cell_type": "code",
   "execution_count": 53,
   "metadata": {},
   "outputs": [],
   "source": [
    "# replacing the null value in city column\n",
    "hotel_data['City'] = hotel_data['City'].fillna('Berlin')"
   ]
  },
  {
   "cell_type": "code",
   "execution_count": 54,
   "metadata": {},
   "outputs": [],
   "source": [
    "# we will replace the null values in price column with mean value of the column\n",
    "hotel_data['Prices'] = hotel_data['Prices'].fillna(hotel_data['Prices'].mean())"
   ]
  },
  {
   "cell_type": "code",
   "execution_count": 55,
   "metadata": {},
   "outputs": [
    {
     "data": {
      "text/plain": [
       "Hotel Name            0\n",
       "City                  0\n",
       "Location              0\n",
       "Number of Reviews     0\n",
       "User Ratings          0\n",
       "Star Rating           0\n",
       "Review Score          0\n",
       "Family Rooms          0\n",
       "Non-Smoking Rooms     0\n",
       "Bar                   0\n",
       "Heating               0\n",
       "Lift                  0\n",
       "Breakfast Cuisine1    0\n",
       "Room Type             0\n",
       "Prices                0\n",
       "dtype: int64"
      ]
     },
     "execution_count": 55,
     "metadata": {},
     "output_type": "execute_result"
    }
   ],
   "source": [
    "# checking for null values again\n",
    "hotel_data.isnull().sum()"
   ]
  },
  {
   "cell_type": "code",
   "execution_count": 56,
   "metadata": {},
   "outputs": [
    {
     "name": "stdout",
     "output_type": "stream",
     "text": [
      "<class 'pandas.core.frame.DataFrame'>\n",
      "Int64Index: 2589 entries, 0 to 2749\n",
      "Data columns (total 15 columns):\n",
      " #   Column              Non-Null Count  Dtype  \n",
      "---  ------              --------------  -----  \n",
      " 0   Hotel Name          2589 non-null   object \n",
      " 1   City                2589 non-null   object \n",
      " 2   Location            2589 non-null   object \n",
      " 3   Number of Reviews   2589 non-null   float64\n",
      " 4   User Ratings        2589 non-null   float64\n",
      " 5   Star Rating         2589 non-null   int64  \n",
      " 6   Review Score        2589 non-null   object \n",
      " 7   Family Rooms        2589 non-null   object \n",
      " 8   Non-Smoking Rooms   2589 non-null   object \n",
      " 9   Bar                 2589 non-null   object \n",
      " 10  Heating             2589 non-null   object \n",
      " 11  Lift                2589 non-null   object \n",
      " 12  Breakfast Cuisine1  2589 non-null   object \n",
      " 13  Room Type           2589 non-null   object \n",
      " 14  Prices              2589 non-null   float64\n",
      "dtypes: float64(3), int64(1), object(11)\n",
      "memory usage: 323.6+ KB\n"
     ]
    }
   ],
   "source": [
    "# checking the summary statistics\n",
    "hotel_data.info()"
   ]
  },
  {
   "cell_type": "code",
   "execution_count": 57,
   "metadata": {},
   "outputs": [
    {
     "data": {
      "text/plain": [
       "Hotel Name            2589\n",
       "City                    11\n",
       "Location              2489\n",
       "Number of Reviews     1586\n",
       "User Ratings            66\n",
       "Star Rating              6\n",
       "Review Score             9\n",
       "Family Rooms             2\n",
       "Non-Smoking Rooms        2\n",
       "Bar                      2\n",
       "Heating                  2\n",
       "Lift                     2\n",
       "Breakfast Cuisine1      11\n",
       "Room Type              739\n",
       "Prices                1740\n",
       "dtype: int64"
      ]
     },
     "execution_count": 57,
     "metadata": {},
     "output_type": "execute_result"
    }
   ],
   "source": [
    "# lets check for unique values in each column\n",
    "hotel_data.nunique()"
   ]
  },
  {
   "cell_type": "code",
   "execution_count": 58,
   "metadata": {},
   "outputs": [
    {
     "name": "stdout",
     "output_type": "stream",
     "text": [
      "=== Summary Statistics ===\n",
      "\n",
      "       Number of Reviews  User Ratings  Star Rating        Prices\n",
      "count        2589.000000   2589.000000  2589.000000  2.589000e+03\n",
      "mean         1610.306296      7.658440     2.926999  1.499081e+04\n",
      "std          2429.468759      1.522587     1.608181  4.837282e+04\n",
      "min             0.000000      1.000000     0.000000  5.220000e+02\n",
      "25%            58.000000      7.400000     3.000000  7.072000e+03\n",
      "50%           770.000000      8.000000     3.000000  1.150200e+04\n",
      "75%          2084.000000      8.500000     4.000000  1.752500e+04\n",
      "max         28907.000000     10.000000     5.000000  2.377105e+06\n"
     ]
    }
   ],
   "source": [
    "print(\"=== Summary Statistics ===\")\n",
    "print()\n",
    "print(hotel_data.describe())"
   ]
  },
  {
   "cell_type": "code",
   "execution_count": 59,
   "metadata": {},
   "outputs": [
    {
     "data": {
      "image/png": "[encoded data removed]",
      "text/plain": [
       "<Figure size 1080x432 with 1 Axes>"
      ]
     },
     "metadata": {
      "needs_background": "light"
     },
     "output_type": "display_data"
    }
   ],
   "source": [
    "# Plotting barplots\n",
    "plt.figure(figsize=(15,6))\n",
    "sns.countplot(data=hotel_data, x=hotel_data['City'])\n",
    "plt.ylabel(\"Count\")\n",
    "plt.show()"
   ]
  },
  {
   "cell_type": "code",
   "execution_count": 60,
   "metadata": {},
   "outputs": [
    {
     "data": {
      "image/png": "[encoded data removed]",
      "text/plain": [
       "<Figure size 432x432 with 1 Axes>"
      ]
     },
     "metadata": {
      "needs_background": "light"
     },
     "output_type": "display_data"
    }
   ],
   "source": [
    "# Plotting barplots\n",
    "plt.figure(figsize=(6,6))\n",
    "sns.countplot(data=hotel_data, x=hotel_data['Star Rating'])\n",
    "plt.ylabel(\"Count\")\n",
    "plt.show()"
   ]
  },
  {
   "cell_type": "markdown",
   "metadata": {},
   "source": [
    "A lot of hotels were awarded a star rating of 5."
   ]
  },
  {
   "cell_type": "code",
   "execution_count": 61,
   "metadata": {},
   "outputs": [
    {
     "data": {
      "image/png": "[encoded data removed]",
      "text/plain": [
       "<Figure size 1296x432 with 1 Axes>"
      ]
     },
     "metadata": {
      "needs_background": "light"
     },
     "output_type": "display_data"
    }
   ],
   "source": [
    "# Plotting barplots\n",
    "plt.figure(figsize=(18,6))\n",
    "sns.countplot(data=hotel_data, x=hotel_data['User Ratings'])\n",
    "plt.ylabel(\"Count\")\n",
    "plt.show()"
   ]
  },
  {
   "cell_type": "markdown",
   "metadata": {},
   "source": [
    "Most of the hotels were rated 3 by users followed by 8.5 and 8.0. There were considerable number of hotels with user rating of 10 suggesting that these hotels do provide their customers with top notch facilities."
   ]
  },
  {
   "cell_type": "code",
   "execution_count": 62,
   "metadata": {},
   "outputs": [
    {
     "data": {
      "image/png": "[encoded data removed]",
      "text/plain": [
       "<Figure size 720x432 with 1 Axes>"
      ]
     },
     "metadata": {
      "needs_background": "light"
     },
     "output_type": "display_data"
    }
   ],
   "source": [
    "# Plotting barplots\n",
    "plt.figure(figsize=(10,6))\n",
    "sns.countplot(data=hotel_data, x=hotel_data['Review Score'])\n",
    "plt.ylabel(\"Count\")\n",
    "plt.show()"
   ]
  },
  {
   "cell_type": "markdown",
   "metadata": {},
   "source": [
    "Most of the hotels are in the Good and Very good category."
   ]
  },
  {
   "cell_type": "code",
   "execution_count": 63,
   "metadata": {},
   "outputs": [
    {
     "data": {
      "image/png": "[encoded data removed]",
      "text/plain": [
       "<Figure size 864x432 with 1 Axes>"
      ]
     },
     "metadata": {
      "needs_background": "light"
     },
     "output_type": "display_data"
    }
   ],
   "source": [
    "# Plotting barplots\n",
    "plt.figure(figsize=(12,6))\n",
    "sns.countplot(data=hotel_data, x=hotel_data['Breakfast Cuisine1'])\n",
    "plt.ylabel(\"Count\")\n",
    "plt.show()"
   ]
  },
  {
   "cell_type": "markdown",
   "metadata": {},
   "source": [
    "Most of the hotels rovide Continental breakfast to their guests."
   ]
  },
  {
   "cell_type": "code",
   "execution_count": 64,
   "metadata": {},
   "outputs": [
    {
     "data": {
      "image/png": "[encoded data removed]",
      "text/plain": [
       "<Figure size 288x288 with 1 Axes>"
      ]
     },
     "metadata": {
      "needs_background": "light"
     },
     "output_type": "display_data"
    }
   ],
   "source": [
    "# Plotting barplots\n",
    "plt.figure(figsize=(4,4))\n",
    "sns.countplot(data=hotel_data, x=hotel_data['Family Rooms'])\n",
    "plt.ylabel(\"Count\")\n",
    "plt.show()"
   ]
  },
  {
   "cell_type": "code",
   "execution_count": 65,
   "metadata": {},
   "outputs": [
    {
     "data": {
      "image/png": "[encoded data removed]",
      "text/plain": [
       "<Figure size 288x288 with 1 Axes>"
      ]
     },
     "metadata": {
      "needs_background": "light"
     },
     "output_type": "display_data"
    }
   ],
   "source": [
    "# Plotting barplots\n",
    "plt.figure(figsize=(4,4))\n",
    "sns.countplot(data=hotel_data, x=hotel_data['Non-Smoking Rooms'])\n",
    "plt.ylabel(\"Count\")\n",
    "plt.show()"
   ]
  },
  {
   "cell_type": "code",
   "execution_count": 66,
   "metadata": {},
   "outputs": [
    {
     "data": {
      "image/png": "[encoded data removed]",
      "text/plain": [
       "<Figure size 288x288 with 1 Axes>"
      ]
     },
     "metadata": {
      "needs_background": "light"
     },
     "output_type": "display_data"
    }
   ],
   "source": [
    "# Plotting barplots\n",
    "plt.figure(figsize=(4,4))\n",
    "sns.countplot(data=hotel_data, x=hotel_data['Bar'])\n",
    "plt.ylabel(\"Count\")\n",
    "plt.show()"
   ]
  },
  {
   "cell_type": "code",
   "execution_count": 67,
   "metadata": {},
   "outputs": [
    {
     "data": {
      "image/png": "[encoded data removed]",
      "text/plain": [
       "<Figure size 288x288 with 1 Axes>"
      ]
     },
     "metadata": {
      "needs_background": "light"
     },
     "output_type": "display_data"
    }
   ],
   "source": [
    "# Plotting barplots\n",
    "plt.figure(figsize=(4,4))\n",
    "sns.countplot(data=hotel_data, x=hotel_data['Heating'])\n",
    "plt.ylabel(\"Count\")\n",
    "plt.show()"
   ]
  },
  {
   "cell_type": "code",
   "execution_count": 68,
   "metadata": {},
   "outputs": [
    {
     "data": {
      "image/png": "[encoded data removed]",
      "text/plain": [
       "<Figure size 288x288 with 1 Axes>"
      ]
     },
     "metadata": {
      "needs_background": "light"
     },
     "output_type": "display_data"
    }
   ],
   "source": [
    "# Plotting barplots\n",
    "plt.figure(figsize=(4,4))\n",
    "sns.countplot(data=hotel_data, x=hotel_data['Lift'])\n",
    "plt.ylabel(\"Count\")\n",
    "plt.show()"
   ]
  },
  {
   "cell_type": "markdown",
   "metadata": {},
   "source": [
    "From the above graphs, we can say that most hotel provide basic ammenities like non-smoking rooms, bar, lift, family rooms."
   ]
  },
  {
   "cell_type": "code",
   "execution_count": 69,
   "metadata": {},
   "outputs": [
    {
     "data": {
      "image/png": "[encoded data removed]",
      "text/plain": [
       "<Figure size 864x432 with 1 Axes>"
      ]
     },
     "metadata": {
      "needs_background": "light"
     },
     "output_type": "display_data"
    }
   ],
   "source": [
    "# plotting the Prices\n",
    "plt.figure(figsize=(12,6))\n",
    "sns.histplot(hotel_data['Prices'], kde=True)\n",
    "plt.title(\"Price distribution\")\n",
    "plt.show()"
   ]
  },
  {
   "cell_type": "markdown",
   "metadata": {},
   "source": [
    "Most of the hotels charges less than 20000 for a night. Some hotels charge as high as 100000 INR for a night."
   ]
  },
  {
   "cell_type": "markdown",
   "metadata": {},
   "source": [
    "checking how price is affected by diffenr features."
   ]
  },
  {
   "cell_type": "code",
   "execution_count": 70,
   "metadata": {},
   "outputs": [
    {
     "data": {
      "image/png": "[encoded data removed]",
      "text/plain": [
       "<Figure size 1080x432 with 1 Axes>"
      ]
     },
     "metadata": {
      "needs_background": "light"
     },
     "output_type": "display_data"
    }
   ],
   "source": [
    "# lets check for price in different cities\n",
    "\n",
    "plt.figure(figsize=(15,6))\n",
    "sns.boxplot(data=hotel_data, x='City', y='Prices')\n",
    "plt.title(\"Price vs City\")\n",
    "plt.show()"
   ]
  },
  {
   "cell_type": "markdown",
   "metadata": {},
   "source": [
    "We can see that almost every city other than Dubai have outliers meaning there maybe some hotels in those citites which charges more than others."
   ]
  },
  {
   "cell_type": "code",
   "execution_count": 71,
   "metadata": {},
   "outputs": [
    {
     "data": {
      "image/png": "[encoded data removed]",
      "text/plain": [
       "<Figure size 720x432 with 1 Axes>"
      ]
     },
     "metadata": {
      "needs_background": "light"
     },
     "output_type": "display_data"
    }
   ],
   "source": [
    "# lets check for price in vs star rating\n",
    "\n",
    "plt.figure(figsize=(10,6))\n",
    "sns.boxplot(data=hotel_data, y='Prices', x='Star Rating')\n",
    "plt.title(\"Price vs Star_rating\")\n",
    "plt.show()"
   ]
  },
  {
   "cell_type": "markdown",
   "metadata": {},
   "source": [
    "1. The presence of outliers suggests that there are exceptional cases where a hotel's price is notably different from the norm for its star rating.\n",
    "2. Outliers in higher-rated hotels (e.g., 5-star) may represent luxury or premium hotels with significantly higher prices, while outliers in lower-rated hotels might be budget hotels with unusually high prices.\n",
    "3. There's variation in prices within each star rating, which means that factors other than just star rating contribute to hotel prices.\n",
    "4. There might be some overlap in prices within each star rating category, as indicated by the height of the boxes."
   ]
  },
  {
   "cell_type": "code",
   "execution_count": 72,
   "metadata": {},
   "outputs": [
    {
     "data": {
      "image/png": "[encoded data removed]",
      "text/plain": [
       "<Figure size 432x432 with 1 Axes>"
      ]
     },
     "metadata": {
      "needs_background": "light"
     },
     "output_type": "display_data"
    }
   ],
   "source": [
    "# lets check for price vs family room\n",
    "\n",
    "plt.figure(figsize=(6,6))\n",
    "sns.boxplot(data=hotel_data, y='Prices', x='Family Rooms')\n",
    "plt.title(\"Price vs Family_room_availability\")\n",
    "plt.show()"
   ]
  },
  {
   "cell_type": "markdown",
   "metadata": {},
   "source": [
    "The boxplot provides a visual representation of the distribution of hotel prices for hotels with and without family rooms.\n",
    "Hotel that do not have family rooms have higher number of outliers suggesting some exceptional cases of high prices."
   ]
  },
  {
   "cell_type": "code",
   "execution_count": 73,
   "metadata": {},
   "outputs": [
    {
     "data": {
      "image/png": "[encoded data removed]",
      "text/plain": [
       "<Figure size 432x288 with 1 Axes>"
      ]
     },
     "metadata": {
      "needs_background": "light"
     },
     "output_type": "display_data"
    }
   ],
   "source": [
    "# lets  Create a histogram with family rooms as the hue parameter\n",
    "sns.histplot(data=hotel_data, x='Prices', hue='Family Rooms', bins=20, kde=True)\n",
    "plt.title('Histogram of Price with Hue')\n",
    "plt.xlabel('Price')\n",
    "plt.ylabel('Frequency')\n",
    "\n",
    "plt.tight_layout()\n",
    "plt.show()"
   ]
  },
  {
   "cell_type": "code",
   "execution_count": 74,
   "metadata": {},
   "outputs": [
    {
     "data": {
      "image/png": "[encoded data removed]",
      "text/plain": [
       "<Figure size 432x432 with 1 Axes>"
      ]
     },
     "metadata": {
      "needs_background": "light"
     },
     "output_type": "display_data"
    }
   ],
   "source": [
    "# plotting price vs Non-smoking room\n",
    "plt.figure(figsize=(6,6))\n",
    "sns.boxplot(data=hotel_data, y='Prices', x='Non-Smoking Rooms')\n",
    "plt.title(\"Price vs NonSmoking_room_ availability\")\n",
    "plt.show()"
   ]
  },
  {
   "cell_type": "code",
   "execution_count": 75,
   "metadata": {},
   "outputs": [
    {
     "data": {
      "image/png": "[encoded data removed]",
      "text/plain": [
       "<Figure size 432x288 with 1 Axes>"
      ]
     },
     "metadata": {
      "needs_background": "light"
     },
     "output_type": "display_data"
    }
   ],
   "source": [
    "# lets  Create a histogram with as non smoking rooms the hue parameter\n",
    "sns.histplot(data=hotel_data, x='Prices', hue='Non-Smoking Rooms', bins=20, kde=True)\n",
    "plt.title('Histogram of Price with Hue')\n",
    "plt.xlabel('Price')\n",
    "plt.ylabel('Frequency')\n",
    "\n",
    "plt.tight_layout()\n",
    "plt.show()"
   ]
  },
  {
   "cell_type": "code",
   "execution_count": 76,
   "metadata": {},
   "outputs": [
    {
     "data": {
      "image/png": "[encoded data removed]",
      "text/plain": [
       "<Figure size 432x432 with 1 Axes>"
      ]
     },
     "metadata": {
      "needs_background": "light"
     },
     "output_type": "display_data"
    }
   ],
   "source": [
    "# plotting price vs lift availability\n",
    "plt.figure(figsize=(6,6))\n",
    "sns.boxplot(data=hotel_data, y='Prices', x='Lift')\n",
    "plt.title(\"Price vs Lift\")\n",
    "plt.show()"
   ]
  },
  {
   "cell_type": "code",
   "execution_count": 77,
   "metadata": {},
   "outputs": [
    {
     "data": {
      "image/png": "[encoded data removed]",
      "text/plain": [
       "<Figure size 432x288 with 1 Axes>"
      ]
     },
     "metadata": {
      "needs_background": "light"
     },
     "output_type": "display_data"
    }
   ],
   "source": [
    "# lets  Create a histogram with as Lift the hue parameter\n",
    "sns.histplot(data=hotel_data, x='Prices', hue='Lift', bins=20, kde=True)\n",
    "plt.title('Histogram of Price with Hue')\n",
    "plt.xlabel('Price')\n",
    "plt.ylabel('Frequency')\n",
    "\n",
    "plt.tight_layout()\n",
    "plt.show()"
   ]
  },
  {
   "cell_type": "code",
   "execution_count": 78,
   "metadata": {},
   "outputs": [
    {
     "data": {
      "image/png": "[encoded data removed]",
      "text/plain": [
       "<Figure size 432x432 with 1 Axes>"
      ]
     },
     "metadata": {
      "needs_background": "light"
     },
     "output_type": "display_data"
    }
   ],
   "source": [
    "# plotting price vs Heating\n",
    "plt.figure(figsize=(6,6))\n",
    "sns.boxplot(data=hotel_data, y='Prices', x='Heating')\n",
    "plt.title(\"Price vs Heating\")\n",
    "plt.show()"
   ]
  },
  {
   "cell_type": "code",
   "execution_count": 79,
   "metadata": {},
   "outputs": [
    {
     "data": {
      "image/png": "[encoded data removed]",
      "text/plain": [
       "<Figure size 432x288 with 1 Axes>"
      ]
     },
     "metadata": {
      "needs_background": "light"
     },
     "output_type": "display_data"
    }
   ],
   "source": [
    "# lets  Create a histogram with heating as the hue parameter\n",
    "sns.histplot(data=hotel_data, x='Prices', hue='Heating', bins=20, kde=True)\n",
    "plt.title('Histogram of Price with Hue')\n",
    "plt.xlabel('Price')\n",
    "plt.ylabel('Frequency')\n",
    "\n",
    "plt.tight_layout()\n",
    "plt.show()"
   ]
  },
  {
   "cell_type": "code",
   "execution_count": 80,
   "metadata": {},
   "outputs": [
    {
     "data": {
      "image/png": "[encoded data removed]",
      "text/plain": [
       "<Figure size 720x432 with 1 Axes>"
      ]
     },
     "metadata": {
      "needs_background": "light"
     },
     "output_type": "display_data"
    }
   ],
   "source": [
    "# Plotting the average price across cities\n",
    "\n",
    "plt.figure(figsize=(10, 6))\n",
    "hotel_data.groupby('City')['Prices'].mean().plot(marker='o', linestyle='-', color='b')\n",
    "\n",
    "plt.title('Average hotel Price by city')\n",
    "plt.xlabel('City')\n",
    "plt.ylabel('Average Price')\n",
    "plt.xticks(rotation=45)\n",
    "plt.grid(True)\n",
    "plt.tight_layout()\n",
    "plt.show()"
   ]
  },
  {
   "cell_type": "markdown",
   "metadata": {},
   "source": [
    "London seems to be expensive."
   ]
  },
  {
   "cell_type": "code",
   "execution_count": 81,
   "metadata": {},
   "outputs": [
    {
     "data": {
      "image/png": "[encoded data removed]",
      "text/plain": [
       "<Figure size 864x432 with 1 Axes>"
      ]
     },
     "metadata": {
      "needs_background": "light"
     },
     "output_type": "display_data"
    }
   ],
   "source": [
    "# Calculate the count of each review score in each city\n",
    "data = hotel_data.groupby(['City', 'Review Score'])['Review Score'].count().reset_index(name='Count')\n",
    "\n",
    "# Create a bar plot\n",
    "plt.figure(figsize=(12, 6))\n",
    "sns.barplot(data=data, x='City', y='Count', hue='Review Score')\n",
    "plt.title('Count of Review Scores in Each City')\n",
    "plt.xlabel('City')\n",
    "plt.ylabel('Count')\n",
    "plt.xticks(rotation=90)  # Rotate x-axis labels for better readability\n",
    "\n",
    "plt.show()"
   ]
  },
  {
   "cell_type": "markdown",
   "metadata": {},
   "source": [
    "This plot allows us to see the distribution of different review score categories, such as 'Good,' 'Very good,' 'Excellent,' and so on, within each city."
   ]
  },
  {
   "cell_type": "code",
   "execution_count": 82,
   "metadata": {},
   "outputs": [
    {
     "data": {
      "image/png": "[encoded data removed]",
      "text/plain": [
       "<Figure size 864x432 with 1 Axes>"
      ]
     },
     "metadata": {
      "needs_background": "light"
     },
     "output_type": "display_data"
    }
   ],
   "source": [
    "# Calculate the count of each review score in each city\n",
    "data = hotel_data.groupby(['City', 'Star Rating'])['Star Rating'].count().reset_index(name='Count')\n",
    "\n",
    "# Create a bar plot\n",
    "plt.figure(figsize=(12, 6))\n",
    "sns.barplot(data=data, x='City', y='Count', hue='Star Rating')\n",
    "plt.title('Count of Star rating in Each City')\n",
    "plt.xlabel('City')\n",
    "plt.ylabel('Count')\n",
    "plt.xticks(rotation=90)  # Rotate x-axis labels for better readability\n",
    "\n",
    "plt.show()"
   ]
  },
  {
   "cell_type": "markdown",
   "metadata": {},
   "source": [
    "The plot allows you to see the distribution of different star rating within each city."
   ]
  },
  {
   "cell_type": "code",
   "execution_count": 83,
   "metadata": {},
   "outputs": [
    {
     "data": {
      "image/png": "[encoded data removed]",
      "text/plain": [
       "<Figure size 1152x360 with 1 Axes>"
      ]
     },
     "metadata": {
      "needs_background": "light"
     },
     "output_type": "display_data"
    }
   ],
   "source": [
    "# AveragePrice vs. region\n",
    "plt.figure(figsize=(16,5))\n",
    "plt.xticks(rotation=90)\n",
    "sns.boxplot(data=hotel_data, x='User Ratings', y='Prices')\n",
    "plt.title('Price vs. User_rating')\n",
    "\n",
    "plt.show()"
   ]
  },
  {
   "cell_type": "code",
   "execution_count": 84,
   "metadata": {},
   "outputs": [
    {
     "name": "stdout",
     "output_type": "stream",
     "text": [
      "              City                                         Hotel Name   Prices\n",
      "253         London  Brand new studio flat in the heart of Notting ...  2377105\n",
      "2441       Toronto                      Full Apartment at Redpath Ave   356114\n",
      "1140    Birmingham                                    Berkshire stays   116178\n",
      "46           Dubai                     Address Beach Resort Residence    87140\n",
      "792     Manchester      The Ultimate Hen Suite with Bar & Makeup Room    82739\n",
      "2634         Tokyo                                The Peninsula Tokyo    80456\n",
      "2098         Paris                                    Hôtel San Régis    64289\n",
      "1567        Sydney                                           W Sydney    44739\n",
      "1270        Berlin            Schlosshotel Berlin by Patrick Hellmann    35491\n",
      "1909     Melbourne            Quiet CBD 3b2b apartment + free parking    31618\n",
      "714   Kuala Lumpur                                Star At KLCC by FZB    21289\n"
     ]
    }
   ],
   "source": [
    "# Find the most expensive hotel in each city along with its price\n",
    "most_expensive_hotels = hotel_data.loc[hotel_data.groupby('City')['Prices'].idxmax()][['City', 'Hotel Name', 'Prices']]\n",
    "\n",
    "# Convert Prices column to integers for sorting\n",
    "most_expensive_hotels['Prices'] = most_expensive_hotels['Prices'].astype(int)\n",
    "\n",
    "# Sort the result in descending order by price\n",
    "most_expensive_hotels = most_expensive_hotels.sort_values(by='Prices', ascending=False)\n",
    "\n",
    "# Display the most expensive hotels in each city\n",
    "print(most_expensive_hotels)"
   ]
  },
  {
   "cell_type": "code",
   "execution_count": 85,
   "metadata": {},
   "outputs": [
    {
     "name": "stdout",
     "output_type": "stream",
     "text": [
      "              City                                         Hotel Name  \\\n",
      "1070    Birmingham  Charming West Midlands Escape – Strategic Loca...   \n",
      "24           Dubai                                 Bee Capsule Hostel   \n",
      "502   Kuala Lumpur                 Platinum Suites KLCC BY by CLASSIC   \n",
      "411         London  Stunning Serviced Room Crystal Palace London SE20   \n",
      "814     Manchester                  1 Bed Apartment near Old Trafford   \n",
      "1590        Sydney   2 Bedroom Apartment - Darling Harbour - Queen St   \n",
      "2283       Toronto                                   Yorkville suites   \n",
      "1325        Berlin                         Locke at East Side Gallery   \n",
      "1909     Melbourne            Quiet CBD 3b2b apartment + free parking   \n",
      "2040         Paris  Luxurious 2 Bedroom Arc de Triomphe Dôme Free ...   \n",
      "2671         Tokyo              Grand Prince Hotel Takanawa Hanakohro   \n",
      "\n",
      "      User Ratings  \n",
      "1070            10  \n",
      "24              10  \n",
      "502             10  \n",
      "411             10  \n",
      "814             10  \n",
      "1590            10  \n",
      "2283            10  \n",
      "1325             9  \n",
      "1909             9  \n",
      "2040             9  \n",
      "2671             9  \n"
     ]
    }
   ],
   "source": [
    "# Find the hotel in each city with highest user rating\n",
    "most_rated_hotels = hotel_data.loc[hotel_data.groupby('City')['User Ratings'].idxmax()][['City', 'Hotel Name', 'User Ratings']]\n",
    "\n",
    "# Convert Prices column to integers for sorting\n",
    "most_rated_hotels['User Ratings'] = most_rated_hotels['User Ratings'].astype(int)\n",
    "\n",
    "# Sort the result in descending order by price\n",
    "most_rated_hotels = most_rated_hotels.sort_values(by='User Ratings', ascending=False)\n",
    "\n",
    "# Display the most expensive hotels in each city\n",
    "print(most_rated_hotels)"
   ]
  },
  {
   "cell_type": "code",
   "execution_count": 86,
   "metadata": {},
   "outputs": [
    {
     "name": "stdout",
     "output_type": "stream",
     "text": [
      "              City                                         Hotel Name  \\\n",
      "386         London                          Zedwell Piccadilly Circus   \n",
      "756     Manchester             Britannia Hotel City Centre Manchester   \n",
      "120          Dubai                                        Atana Hotel   \n",
      "1263        Berlin         Park Inn by Radisson Berlin Alexanderplatz   \n",
      "2029         Paris          HotelF1 Paris Saint Ouen Marché Aux Puces   \n",
      "1648        Sydney                                    The Grace Hotel   \n",
      "1011    Birmingham                      ibis budget Birmingham Centre   \n",
      "1762     Melbourne                                 The Victoria Hotel   \n",
      "2533         Tokyo  The Royal Park Hotel Tokyo Haneda Airport Term...   \n",
      "683   Kuala Lumpur                        Traders Hotel, Kuala Lumpur   \n",
      "2266       Toronto                              Chelsea Hotel Toronto   \n",
      "\n",
      "      Number of Reviews  \n",
      "386               28907  \n",
      "756               21540  \n",
      "120               21214  \n",
      "1263              19532  \n",
      "2029              12857  \n",
      "1648              11814  \n",
      "1011              10442  \n",
      "1762              10278  \n",
      "2533               9726  \n",
      "683                8288  \n",
      "2266               6350  \n"
     ]
    }
   ],
   "source": [
    "# Find the hotel in each city with highest numbr of reviews\n",
    "most_reviewed_hotels = hotel_data.loc[hotel_data.groupby('City')['Number of Reviews'].idxmax()][['City', 'Hotel Name', 'Number of Reviews']]\n",
    "\n",
    "# Convert Prices column to integers for sorting\n",
    "most_reviewed_hotels['Number of Reviews'] = most_reviewed_hotels['Number of Reviews'].astype(int)\n",
    "\n",
    "# Sort the result in descending order by price\n",
    "most_reviewed_hotels = most_reviewed_hotels.sort_values(by='Number of Reviews', ascending=False)\n",
    "\n",
    "# Display the most expensive hotels in each city\n",
    "print(most_reviewed_hotels)"
   ]
  },
  {
   "cell_type": "code",
   "execution_count": 87,
   "metadata": {},
   "outputs": [
    {
     "data": {
      "text/html": [
       "<div>\n",
       "<style scoped>\n",
       "    .dataframe tbody tr th:only-of-type {\n",
       "        vertical-align: middle;\n",
       "    }\n",
       "\n",
       "    .dataframe tbody tr th {\n",
       "        vertical-align: top;\n",
       "    }\n",
       "\n",
       "    .dataframe thead th {\n",
       "        text-align: right;\n",
       "    }\n",
       "</style>\n",
       "<table border=\"1\" class=\"dataframe\">\n",
       "  <thead>\n",
       "    <tr style=\"text-align: right;\">\n",
       "      <th></th>\n",
       "      <th>Hotel Name</th>\n",
       "      <th>City</th>\n",
       "      <th>Location</th>\n",
       "      <th>Number of Reviews</th>\n",
       "      <th>User Ratings</th>\n",
       "      <th>Star Rating</th>\n",
       "      <th>Review Score</th>\n",
       "      <th>Family Rooms</th>\n",
       "      <th>Non-Smoking Rooms</th>\n",
       "      <th>Bar</th>\n",
       "      <th>Heating</th>\n",
       "      <th>Lift</th>\n",
       "      <th>Breakfast Cuisine1</th>\n",
       "      <th>Room Type</th>\n",
       "      <th>Prices</th>\n",
       "    </tr>\n",
       "  </thead>\n",
       "  <tbody>\n",
       "    <tr>\n",
       "      <th>0</th>\n",
       "      <td>Days Hotel By Wyndham Dubai Deira</td>\n",
       "      <td>2</td>\n",
       "      <td>One Deira Plaza Gold Souk Metro Station Al Cor...</td>\n",
       "      <td>4049.0</td>\n",
       "      <td>8.1</td>\n",
       "      <td>3</td>\n",
       "      <td>8</td>\n",
       "      <td>1</td>\n",
       "      <td>1</td>\n",
       "      <td>0</td>\n",
       "      <td>0</td>\n",
       "      <td>0</td>\n",
       "      <td>4</td>\n",
       "      <td>671</td>\n",
       "      <td>10069.0</td>\n",
       "    </tr>\n",
       "    <tr>\n",
       "      <th>1</th>\n",
       "      <td>Four Points by Sheraton Sheikh Zayed Road</td>\n",
       "      <td>2</td>\n",
       "      <td>Sheikh Zayed Road, Trade Centre, Dubai, United...</td>\n",
       "      <td>2926.0</td>\n",
       "      <td>8.4</td>\n",
       "      <td>4</td>\n",
       "      <td>8</td>\n",
       "      <td>1</td>\n",
       "      <td>1</td>\n",
       "      <td>1</td>\n",
       "      <td>0</td>\n",
       "      <td>1</td>\n",
       "      <td>4</td>\n",
       "      <td>114</td>\n",
       "      <td>29443.0</td>\n",
       "    </tr>\n",
       "    <tr>\n",
       "      <th>2</th>\n",
       "      <td>1 World Dubai</td>\n",
       "      <td>2</td>\n",
       "      <td>King Salman Bin Abdulaziz Al Saud Street Elite...</td>\n",
       "      <td>695.0</td>\n",
       "      <td>8.6</td>\n",
       "      <td>0</td>\n",
       "      <td>3</td>\n",
       "      <td>0</td>\n",
       "      <td>1</td>\n",
       "      <td>0</td>\n",
       "      <td>1</td>\n",
       "      <td>1</td>\n",
       "      <td>4</td>\n",
       "      <td>490</td>\n",
       "      <td>6772.0</td>\n",
       "    </tr>\n",
       "    <tr>\n",
       "      <th>3</th>\n",
       "      <td>Holiday Inn Express Dubai Airport, an IHG Hotel</td>\n",
       "      <td>2</td>\n",
       "      <td>Airport Road, Garhoud, 35257 Dubai, United Ara...</td>\n",
       "      <td>16649.0</td>\n",
       "      <td>7.8</td>\n",
       "      <td>3</td>\n",
       "      <td>4</td>\n",
       "      <td>0</td>\n",
       "      <td>1</td>\n",
       "      <td>1</td>\n",
       "      <td>0</td>\n",
       "      <td>1</td>\n",
       "      <td>4</td>\n",
       "      <td>241</td>\n",
       "      <td>11302.0</td>\n",
       "    </tr>\n",
       "    <tr>\n",
       "      <th>4</th>\n",
       "      <td>One bedroom apartment with amazing pool view i...</td>\n",
       "      <td>2</td>\n",
       "      <td>Apartment no 902, Building name tower 108, JVC...</td>\n",
       "      <td>0.0</td>\n",
       "      <td>3.0</td>\n",
       "      <td>0</td>\n",
       "      <td>0</td>\n",
       "      <td>1</td>\n",
       "      <td>0</td>\n",
       "      <td>0</td>\n",
       "      <td>1</td>\n",
       "      <td>1</td>\n",
       "      <td>4</td>\n",
       "      <td>410</td>\n",
       "      <td>13249.0</td>\n",
       "    </tr>\n",
       "  </tbody>\n",
       "</table>\n",
       "</div>"
      ],
      "text/plain": [
       "                                          Hotel Name  City  \\\n",
       "0                  Days Hotel By Wyndham Dubai Deira     2   \n",
       "1          Four Points by Sheraton Sheikh Zayed Road     2   \n",
       "2                                      1 World Dubai     2   \n",
       "3    Holiday Inn Express Dubai Airport, an IHG Hotel     2   \n",
       "4  One bedroom apartment with amazing pool view i...     2   \n",
       "\n",
       "                                            Location  Number of Reviews  \\\n",
       "0  One Deira Plaza Gold Souk Metro Station Al Cor...             4049.0   \n",
       "1  Sheikh Zayed Road, Trade Centre, Dubai, United...             2926.0   \n",
       "2  King Salman Bin Abdulaziz Al Saud Street Elite...              695.0   \n",
       "3  Airport Road, Garhoud, 35257 Dubai, United Ara...            16649.0   \n",
       "4  Apartment no 902, Building name tower 108, JVC...                0.0   \n",
       "\n",
       "   User Ratings  Star Rating  Review Score  Family Rooms  Non-Smoking Rooms  \\\n",
       "0           8.1            3             8             1                  1   \n",
       "1           8.4            4             8             1                  1   \n",
       "2           8.6            0             3             0                  1   \n",
       "3           7.8            3             4             0                  1   \n",
       "4           3.0            0             0             1                  0   \n",
       "\n",
       "   Bar  Heating  Lift  Breakfast Cuisine1  Room Type   Prices  \n",
       "0    0        0     0                   4        671  10069.0  \n",
       "1    1        0     1                   4        114  29443.0  \n",
       "2    0        1     1                   4        490   6772.0  \n",
       "3    1        0     1                   4        241  11302.0  \n",
       "4    0        1     1                   4        410  13249.0  "
      ]
     },
     "execution_count": 87,
     "metadata": {},
     "output_type": "execute_result"
    }
   ],
   "source": [
    "# using label encoder to convert categorical column to numerical in dataset\n",
    "from sklearn.preprocessing import LabelEncoder\n",
    "\n",
    "# Select the categorical columns in your dataset\n",
    "cat_columns = ['City','Review Score','Family Rooms', 'Non-Smoking Rooms', 'Bar', 'Heating', 'Lift', 'Breakfast Cuisine1', 'Room Type']\n",
    "\n",
    "# Create an instance of LabelEncoder\n",
    "label_encoder = LabelEncoder()\n",
    "\n",
    "# Apply label encoding to each categorical column\n",
    "for col in cat_columns:\n",
    "    hotel_data[col] = label_encoder.fit_transform(hotel_data[col])\n",
    "\n",
    "# Display the updated dataset\n",
    "hotel_data.head()"
   ]
  },
  {
   "cell_type": "code",
   "execution_count": 88,
   "metadata": {},
   "outputs": [
    {
     "data": {
      "text/html": [
       "<div>\n",
       "<style scoped>\n",
       "    .dataframe tbody tr th:only-of-type {\n",
       "        vertical-align: middle;\n",
       "    }\n",
       "\n",
       "    .dataframe tbody tr th {\n",
       "        vertical-align: top;\n",
       "    }\n",
       "\n",
       "    .dataframe thead th {\n",
       "        text-align: right;\n",
       "    }\n",
       "</style>\n",
       "<table border=\"1\" class=\"dataframe\">\n",
       "  <thead>\n",
       "    <tr style=\"text-align: right;\">\n",
       "      <th></th>\n",
       "      <th>City</th>\n",
       "      <th>Number of Reviews</th>\n",
       "      <th>User Ratings</th>\n",
       "      <th>Star Rating</th>\n",
       "      <th>Review Score</th>\n",
       "      <th>Family Rooms</th>\n",
       "      <th>Non-Smoking Rooms</th>\n",
       "      <th>Bar</th>\n",
       "      <th>Heating</th>\n",
       "      <th>Lift</th>\n",
       "      <th>Breakfast Cuisine1</th>\n",
       "      <th>Room Type</th>\n",
       "      <th>Prices</th>\n",
       "    </tr>\n",
       "  </thead>\n",
       "  <tbody>\n",
       "    <tr>\n",
       "      <th>0</th>\n",
       "      <td>2</td>\n",
       "      <td>4049.0</td>\n",
       "      <td>8.1</td>\n",
       "      <td>3</td>\n",
       "      <td>8</td>\n",
       "      <td>1</td>\n",
       "      <td>1</td>\n",
       "      <td>0</td>\n",
       "      <td>0</td>\n",
       "      <td>0</td>\n",
       "      <td>4</td>\n",
       "      <td>671</td>\n",
       "      <td>10069.0</td>\n",
       "    </tr>\n",
       "    <tr>\n",
       "      <th>1</th>\n",
       "      <td>2</td>\n",
       "      <td>2926.0</td>\n",
       "      <td>8.4</td>\n",
       "      <td>4</td>\n",
       "      <td>8</td>\n",
       "      <td>1</td>\n",
       "      <td>1</td>\n",
       "      <td>1</td>\n",
       "      <td>0</td>\n",
       "      <td>1</td>\n",
       "      <td>4</td>\n",
       "      <td>114</td>\n",
       "      <td>29443.0</td>\n",
       "    </tr>\n",
       "    <tr>\n",
       "      <th>2</th>\n",
       "      <td>2</td>\n",
       "      <td>695.0</td>\n",
       "      <td>8.6</td>\n",
       "      <td>0</td>\n",
       "      <td>3</td>\n",
       "      <td>0</td>\n",
       "      <td>1</td>\n",
       "      <td>0</td>\n",
       "      <td>1</td>\n",
       "      <td>1</td>\n",
       "      <td>4</td>\n",
       "      <td>490</td>\n",
       "      <td>6772.0</td>\n",
       "    </tr>\n",
       "    <tr>\n",
       "      <th>3</th>\n",
       "      <td>2</td>\n",
       "      <td>16649.0</td>\n",
       "      <td>7.8</td>\n",
       "      <td>3</td>\n",
       "      <td>4</td>\n",
       "      <td>0</td>\n",
       "      <td>1</td>\n",
       "      <td>1</td>\n",
       "      <td>0</td>\n",
       "      <td>1</td>\n",
       "      <td>4</td>\n",
       "      <td>241</td>\n",
       "      <td>11302.0</td>\n",
       "    </tr>\n",
       "    <tr>\n",
       "      <th>4</th>\n",
       "      <td>2</td>\n",
       "      <td>0.0</td>\n",
       "      <td>3.0</td>\n",
       "      <td>0</td>\n",
       "      <td>0</td>\n",
       "      <td>1</td>\n",
       "      <td>0</td>\n",
       "      <td>0</td>\n",
       "      <td>1</td>\n",
       "      <td>1</td>\n",
       "      <td>4</td>\n",
       "      <td>410</td>\n",
       "      <td>13249.0</td>\n",
       "    </tr>\n",
       "  </tbody>\n",
       "</table>\n",
       "</div>"
      ],
      "text/plain": [
       "   City  Number of Reviews  User Ratings  Star Rating  Review Score  \\\n",
       "0     2             4049.0           8.1            3             8   \n",
       "1     2             2926.0           8.4            4             8   \n",
       "2     2              695.0           8.6            0             3   \n",
       "3     2            16649.0           7.8            3             4   \n",
       "4     2                0.0           3.0            0             0   \n",
       "\n",
       "   Family Rooms  Non-Smoking Rooms  Bar  Heating  Lift  Breakfast Cuisine1  \\\n",
       "0             1                  1    0        0     0                   4   \n",
       "1             1                  1    1        0     1                   4   \n",
       "2             0                  1    0        1     1                   4   \n",
       "3             0                  1    1        0     1                   4   \n",
       "4             1                  0    0        1     1                   4   \n",
       "\n",
       "   Room Type   Prices  \n",
       "0        671  10069.0  \n",
       "1        114  29443.0  \n",
       "2        490   6772.0  \n",
       "3        241  11302.0  \n",
       "4        410  13249.0  "
      ]
     },
     "execution_count": 88,
     "metadata": {},
     "output_type": "execute_result"
    }
   ],
   "source": [
    "hotel_data.drop(['Hotel Name', 'Location'], axis=1, inplace=True)\n",
    "hotel_data.head()"
   ]
  },
  {
   "cell_type": "code",
   "execution_count": 89,
   "metadata": {},
   "outputs": [
    {
     "data": {
      "image/png": "[encoded data removed]",
      "text/plain": [
       "<Figure size 1152x864 with 2 Axes>"
      ]
     },
     "metadata": {
      "needs_background": "light"
     },
     "output_type": "display_data"
    }
   ],
   "source": [
    "# lets check for correlation among columns\n",
    "\n",
    "plt.figure(figsize=(16,12))\n",
    "sns.heatmap(hotel_data.corr(), annot=True)\n",
    "plt.title(\"Corelation Heatmap\")\n",
    "plt.show()"
   ]
  },
  {
   "cell_type": "code",
   "execution_count": 90,
   "metadata": {},
   "outputs": [
    {
     "data": {
      "text/plain": [
       "Family Rooms         -0.001907\n",
       "Review Score          0.000576\n",
       "Number of Reviews     0.000917\n",
       "Breakfast Cuisine1    0.008749\n",
       "City                  0.011786\n",
       "Room Type             0.016560\n",
       "Non-Smoking Rooms     0.018731\n",
       "User Ratings          0.025217\n",
       "Bar                   0.028684\n",
       "Lift                  0.039769\n",
       "Heating               0.052526\n",
       "Star Rating           0.059137\n",
       "Prices                1.000000\n",
       "Name: Prices, dtype: float64"
      ]
     },
     "execution_count": 90,
     "metadata": {},
     "output_type": "execute_result"
    }
   ],
   "source": [
    "# lets check the correlation of features with the target variable here we have 2 target variables, Prices and Reviewscore\n",
    "hotel_data.corr()['Prices'].sort_values()"
   ]
  },
  {
   "cell_type": "markdown",
   "metadata": {},
   "source": [
    "'Prices' has the highest positive correlation with 'Star Rating' (0.059137) and 'Heating' (0.052526). This suggests that the presence of Star Rating and Heating in hotels may be associated with higher prices. It also has positive correlations with 'Lift' (0.039769) and 'Bar' (0.028684). These variables may have some influence on hotel prices.\n",
    "\n",
    "The 'Prices' column has a weak negative correlation with 'Family Rooms' (-0.146498). This indicates that as prices increase, there is a slight negative correlation with Family Rooms. In other words, higher prices are associated with slightly lower Family Rooms.'Prices' has a very weak positive correlation with 'Review Score' (0.000576), and 'Number of Reviews' (0.000917). These correlations suggest that these factors have limited influence on hotel prices."
   ]
  },
  {
   "cell_type": "code",
   "execution_count": 91,
   "metadata": {},
   "outputs": [
    {
     "data": {
      "text/plain": [
       "Room Type            -0.029028\n",
       "Prices                0.000576\n",
       "Breakfast Cuisine1    0.021795\n",
       "Heating               0.026722\n",
       "City                  0.052760\n",
       "Family Rooms          0.096559\n",
       "Bar                   0.119116\n",
       "Number of Reviews     0.145888\n",
       "Lift                  0.191690\n",
       "Star Rating           0.223849\n",
       "Non-Smoking Rooms     0.266791\n",
       "User Ratings          0.470142\n",
       "Review Score          1.000000\n",
       "Name: Review Score, dtype: float64"
      ]
     },
     "execution_count": 91,
     "metadata": {},
     "output_type": "execute_result"
    }
   ],
   "source": [
    "hotel_data.corr()['Review Score'].sort_values()"
   ]
  },
  {
   "cell_type": "markdown",
   "metadata": {},
   "source": [
    "The 'Reviewscore' column has the strongest positive correlation with 'User Ratings' (0.470142) and 'Non-Smoking Rooms' (0.266791). This suggests that higher user ratings and more reviews are positively correlated with a higher review score.\n",
    "\n",
    "On the other hand, 'Reviewscore' has a weak positive correlation with 'Prices' (0.000576), indicating that the availability of Prices is also positively associated with a higher review score."
   ]
  },
  {
   "cell_type": "markdown",
   "metadata": {},
   "source": [
    "#### Predicting the price is an example of Regression problem."
   ]
  },
  {
   "cell_type": "code",
   "execution_count": 92,
   "metadata": {},
   "outputs": [],
   "source": [
    "# For regression, price is the target column\n",
    "\n",
    "X= hotel_data.drop(['Prices'], axis=1)\n",
    "y = hotel_data['Prices']"
   ]
  },
  {
   "cell_type": "code",
   "execution_count": 93,
   "metadata": {},
   "outputs": [
    {
     "data": {
      "text/plain": [
       "Non-Smoking Rooms    -1.937760\n",
       "Heating              -1.860799\n",
       "User Ratings         -1.855200\n",
       "Star Rating          -0.864126\n",
       "Lift                 -0.752264\n",
       "Family Rooms         -0.313738\n",
       "Room Type            -0.268052\n",
       "Review Score         -0.183574\n",
       "City                 -0.006294\n",
       "Bar                   0.289754\n",
       "Breakfast Cuisine1    2.320316\n",
       "Number of Reviews     3.419698\n",
       "dtype: float64"
      ]
     },
     "execution_count": 93,
     "metadata": {},
     "output_type": "execute_result"
    }
   ],
   "source": [
    "#lets check for skewness and outliers in the dataset\n",
    "X.skew().sort_values()"
   ]
  },
  {
   "cell_type": "code",
   "execution_count": 94,
   "metadata": {},
   "outputs": [],
   "source": [
    "# remove skewness\n",
    "\n",
    "# Identify the columns to transform\n",
    "columns_to_transform = ['Non-Smoking Rooms', 'Heating', 'User Ratings', 'Number of Reviews', 'Breakfast Cuisine1']\n",
    "\n",
    "# Apply log transformation to selected columns\n",
    "for column in columns_to_transform:\n",
    "    X[column] = np.log1p(X[column])"
   ]
  },
  {
   "cell_type": "code",
   "execution_count": 95,
   "metadata": {},
   "outputs": [
    {
     "data": {
      "text/plain": [
       "Breakfast Cuisine1   -2.863118\n",
       "User Ratings         -2.535026\n",
       "Non-Smoking Rooms    -1.937760\n",
       "Heating              -1.860799\n",
       "Number of Reviews    -0.877720\n",
       "Star Rating          -0.864126\n",
       "Lift                 -0.752264\n",
       "Family Rooms         -0.313738\n",
       "Room Type            -0.268052\n",
       "Review Score         -0.183574\n",
       "City                 -0.006294\n",
       "Bar                   0.289754\n",
       "dtype: float64"
      ]
     },
     "execution_count": 95,
     "metadata": {},
     "output_type": "execute_result"
    }
   ],
   "source": [
    "X.skew().sort_values()"
   ]
  },
  {
   "cell_type": "code",
   "execution_count": 96,
   "metadata": {},
   "outputs": [],
   "source": [
    "# finding and transforming outliers\n",
    "# Iterate over each column in X\n",
    "for col in X.columns:\n",
    "    # Calculate the lower and upper thresholds for the column\n",
    "    Q1 = np.percentile(X[col], 25)\n",
    "    Q3 = np.percentile(X[col], 75)\n",
    "    IQR = Q3 - Q1\n",
    "    lower_threshold = Q1 - 1.5 * IQR\n",
    "    upper_threshold = Q3 + 1.5 * IQR\n",
    "\n",
    "    # Replace outliers in the column with threshold values\n",
    "    X[col] = np.where(X[col] < lower_threshold, lower_threshold, X[col])\n",
    "    X[col] = np.where(X[col] > upper_threshold, upper_threshold, X[col])"
   ]
  },
  {
   "cell_type": "markdown",
   "metadata": {},
   "source": [
    "The values in the dataset that are outside these thresholds are outliers. Since this dataset is small, we will transform these outliers using flooring or capping method. In this method, a threshold is set and values above or below that threshold is replaced with the nearest non-outlying value, in this case the threshold."
   ]
  },
  {
   "cell_type": "code",
   "execution_count": 97,
   "metadata": {},
   "outputs": [
    {
     "name": "stdout",
     "output_type": "stream",
     "text": [
      "X_train shape (1941, 12)\n",
      "X_test shape (648, 12)\n",
      "y_train shape (1941,)\n",
      "y_test shape (648,)\n"
     ]
    }
   ],
   "source": [
    "from sklearn.model_selection import train_test_split, cross_val_score, GridSearchCV\n",
    "from sklearn.preprocessing import StandardScaler\n",
    "\n",
    "# scaling the dataset\n",
    "scaler = StandardScaler()\n",
    "X = scaler.fit_transform(X)\n",
    "\n",
    "# splitting data into train and tests set\n",
    "X_train, X_test, y_train, y_test = train_test_split(X,y, test_size=0.25, random_state=42)\n",
    "\n",
    "print('X_train shape', X_train.shape)\n",
    "print('X_test shape', X_test.shape)\n",
    "print('y_train shape', y_train.shape)\n",
    "print('y_test shape', y_test.shape)"
   ]
  },
  {
   "cell_type": "code",
   "execution_count": 98,
   "metadata": {},
   "outputs": [
    {
     "data": {
      "image/png": "[encoded data removed]",
      "text/plain": [
       "<Figure size 576x432 with 1 Axes>"
      ]
     },
     "metadata": {
      "needs_background": "light"
     },
     "output_type": "display_data"
    },
    {
     "data": {
      "image/png": "[encoded data removed]",
      "text/plain": [
       "<Figure size 576x432 with 1 Axes>"
      ]
     },
     "metadata": {
      "needs_background": "light"
     },
     "output_type": "display_data"
    },
    {
     "data": {
      "image/png": "[encoded data removed]",
      "text/plain": [
       "<Figure size 576x432 with 1 Axes>"
      ]
     },
     "metadata": {
      "needs_background": "light"
     },
     "output_type": "display_data"
    },
    {
     "data": {
      "image/png": "[encoded data removed]",
      "text/plain": [
       "<Figure size 576x432 with 1 Axes>"
      ]
     },
     "metadata": {
      "needs_background": "light"
     },
     "output_type": "display_data"
    },
    {
     "data": {
      "image/png": "[encoded data removed]",
      "text/plain": [
       "<Figure size 576x432 with 1 Axes>"
      ]
     },
     "metadata": {
      "needs_background": "light"
     },
     "output_type": "display_data"
    },
    {
     "data": {
      "image/png": "[encoded data removed]",
      "text/plain": [
       "<Figure size 576x432 with 1 Axes>"
      ]
     },
     "metadata": {
      "needs_background": "light"
     },
     "output_type": "display_data"
    },
    {
     "data": {
      "image/png": "[encoded data removed]",
      "text/plain": [
       "<Figure size 576x432 with 1 Axes>"
      ]
     },
     "metadata": {
      "needs_background": "light"
     },
     "output_type": "display_data"
    },
    {
     "data": {
      "image/png": "[encoded data removed]",
      "text/plain": [
       "<Figure size 576x432 with 1 Axes>"
      ]
     },
     "metadata": {
      "needs_background": "light"
     },
     "output_type": "display_data"
    },
    {
     "data": {
      "image/png": "[encoded data removed]",
      "text/plain": [
       "<Figure size 576x432 with 1 Axes>"
      ]
     },
     "metadata": {
      "needs_background": "light"
     },
     "output_type": "display_data"
    },
    {
     "data": {
      "image/png": "[encoded data removed]",
      "text/plain": [
       "<Figure size 576x432 with 1 Axes>"
      ]
     },
     "metadata": {
      "needs_background": "light"
     },
     "output_type": "display_data"
    }
   ],
   "source": [
    "# importing libraries\n",
    "from sklearn.metrics import r2_score, mean_absolute_error, mean_squared_error\n",
    "from sklearn.linear_model import LinearRegression\n",
    "from sklearn.ensemble import RandomForestRegressor\n",
    "from sklearn.svm import SVR\n",
    "from sklearn.tree import DecisionTreeRegressor\n",
    "from sklearn.neighbors import KNeighborsRegressor\n",
    "from sklearn.ensemble import GradientBoostingRegressor\n",
    "from sklearn.linear_model import Lasso\n",
    "from sklearn.linear_model import Ridge\n",
    "from sklearn.linear_model import ElasticNet\n",
    "from sklearn.linear_model import BayesianRidge\n",
    "\n",
    "models = [\n",
    "    ('Linear Regression', LinearRegression()),\n",
    "    ('Random Forest', RandomForestRegressor()),\n",
    "    ('Support Vector Regression', SVR()),\n",
    "    ('Decision Tree', DecisionTreeRegressor()),\n",
    "    ('K-Nearest Neighbors', KNeighborsRegressor()),\n",
    "    ('Gradient Boosting', GradientBoostingRegressor()),\n",
    "    ('Lasso Regression', Lasso()),\n",
    "    ('Ridge Regression', Ridge()),\n",
    "    ('Elastic Net', ElasticNet()),\n",
    "    ('Bayesian Ridge', BayesianRidge())]\n",
    "\n",
    "predictions = []\n",
    "for name, model in models:\n",
    "    model.fit(X_train, y_train)\n",
    "    y_pred = model.predict(X_test)\n",
    "    predictions.append((name, y_pred))\n",
    "    \n",
    "# Plotting the predicted vs actual values\n",
    "for name, y_pred in predictions:\n",
    "    plt.figure(figsize=(8, 6))\n",
    "    plt.scatter(y_test, y_pred)\n",
    "    plt.xlabel('Actual Values')\n",
    "    plt.ylabel('Predicted Values')\n",
    "    plt.title(name)\n",
    "    plt.xticks(rotation=45)\n",
    "    plt.show()"
   ]
  },
  {
   "cell_type": "code",
   "execution_count": 99,
   "metadata": {},
   "outputs": [
    {
     "data": {
      "text/html": [
       "<div>\n",
       "<style scoped>\n",
       "    .dataframe tbody tr th:only-of-type {\n",
       "        vertical-align: middle;\n",
       "    }\n",
       "\n",
       "    .dataframe tbody tr th {\n",
       "        vertical-align: top;\n",
       "    }\n",
       "\n",
       "    .dataframe thead th {\n",
       "        text-align: right;\n",
       "    }\n",
       "</style>\n",
       "<table border=\"1\" class=\"dataframe\">\n",
       "  <thead>\n",
       "    <tr style=\"text-align: right;\">\n",
       "      <th></th>\n",
       "      <th>Model_name</th>\n",
       "      <th>R2_score</th>\n",
       "      <th>Mean_Squared_Error</th>\n",
       "      <th>Root_Mean_Squared_Error</th>\n",
       "      <th>Mean_Absolute_Error</th>\n",
       "    </tr>\n",
       "  </thead>\n",
       "  <tbody>\n",
       "    <tr>\n",
       "      <th>0</th>\n",
       "      <td>Linear Regression</td>\n",
       "      <td>0.071782</td>\n",
       "      <td>1.424598e+08</td>\n",
       "      <td>11935.652347</td>\n",
       "      <td>7638.592259</td>\n",
       "    </tr>\n",
       "    <tr>\n",
       "      <th>1</th>\n",
       "      <td>Random Forest</td>\n",
       "      <td>-4.127012</td>\n",
       "      <td>7.868771e+08</td>\n",
       "      <td>28051.329213</td>\n",
       "      <td>7278.648822</td>\n",
       "    </tr>\n",
       "    <tr>\n",
       "      <th>2</th>\n",
       "      <td>Support Vector Regression</td>\n",
       "      <td>-0.060929</td>\n",
       "      <td>1.628280e+08</td>\n",
       "      <td>12760.405996</td>\n",
       "      <td>7449.158921</td>\n",
       "    </tr>\n",
       "    <tr>\n",
       "      <th>3</th>\n",
       "      <td>Decision Tree</td>\n",
       "      <td>-169.407810</td>\n",
       "      <td>2.615363e+10</td>\n",
       "      <td>161720.848276</td>\n",
       "      <td>17481.072821</td>\n",
       "    </tr>\n",
       "    <tr>\n",
       "      <th>4</th>\n",
       "      <td>K-Nearest Neighbors</td>\n",
       "      <td>-1.990550</td>\n",
       "      <td>4.589798e+08</td>\n",
       "      <td>21423.814654</td>\n",
       "      <td>7143.185780</td>\n",
       "    </tr>\n",
       "    <tr>\n",
       "      <th>5</th>\n",
       "      <td>Gradient Boosting</td>\n",
       "      <td>-1.927906</td>\n",
       "      <td>4.493655e+08</td>\n",
       "      <td>21198.242444</td>\n",
       "      <td>6756.341432</td>\n",
       "    </tr>\n",
       "    <tr>\n",
       "      <th>6</th>\n",
       "      <td>Lasso Regression</td>\n",
       "      <td>0.071810</td>\n",
       "      <td>1.424555e+08</td>\n",
       "      <td>11935.474070</td>\n",
       "      <td>7638.269299</td>\n",
       "    </tr>\n",
       "    <tr>\n",
       "      <th>7</th>\n",
       "      <td>Ridge Regression</td>\n",
       "      <td>0.071846</td>\n",
       "      <td>1.424500e+08</td>\n",
       "      <td>11935.241742</td>\n",
       "      <td>7638.003487</td>\n",
       "    </tr>\n",
       "    <tr>\n",
       "      <th>8</th>\n",
       "      <td>Elastic Net</td>\n",
       "      <td>0.079334</td>\n",
       "      <td>1.413008e+08</td>\n",
       "      <td>11887.000186</td>\n",
       "      <td>7518.042015</td>\n",
       "    </tr>\n",
       "    <tr>\n",
       "      <th>9</th>\n",
       "      <td>Bayesian Ridge</td>\n",
       "      <td>-0.003143</td>\n",
       "      <td>1.539591e+08</td>\n",
       "      <td>12408.027115</td>\n",
       "      <td>7950.037723</td>\n",
       "    </tr>\n",
       "  </tbody>\n",
       "</table>\n",
       "</div>"
      ],
      "text/plain": [
       "                  Model_name    R2_score  Mean_Squared_Error  \\\n",
       "0          Linear Regression    0.071782        1.424598e+08   \n",
       "1              Random Forest   -4.127012        7.868771e+08   \n",
       "2  Support Vector Regression   -0.060929        1.628280e+08   \n",
       "3              Decision Tree -169.407810        2.615363e+10   \n",
       "4        K-Nearest Neighbors   -1.990550        4.589798e+08   \n",
       "5          Gradient Boosting   -1.927906        4.493655e+08   \n",
       "6           Lasso Regression    0.071810        1.424555e+08   \n",
       "7           Ridge Regression    0.071846        1.424500e+08   \n",
       "8                Elastic Net    0.079334        1.413008e+08   \n",
       "9             Bayesian Ridge   -0.003143        1.539591e+08   \n",
       "\n",
       "   Root_Mean_Squared_Error  Mean_Absolute_Error  \n",
       "0             11935.652347          7638.592259  \n",
       "1             28051.329213          7278.648822  \n",
       "2             12760.405996          7449.158921  \n",
       "3            161720.848276         17481.072821  \n",
       "4             21423.814654          7143.185780  \n",
       "5             21198.242444          6756.341432  \n",
       "6             11935.474070          7638.269299  \n",
       "7             11935.241742          7638.003487  \n",
       "8             11887.000186          7518.042015  \n",
       "9             12408.027115          7950.037723  "
      ]
     },
     "execution_count": 99,
     "metadata": {},
     "output_type": "execute_result"
    }
   ],
   "source": [
    "metrics = []\n",
    "for name, y_pred in predictions:\n",
    "    r2 = r2_score(y_test, y_pred)\n",
    "    mse = mean_squared_error(y_test, y_pred)\n",
    "    rmse = np.sqrt(mse)\n",
    "    mae = mean_absolute_error(y_test, y_pred)\n",
    "    metrics.append((name, r2, mse, rmse, mae))\n",
    "\n",
    "# Creating metrics dataframe\n",
    "metrics_df = pd.DataFrame(metrics, columns=['Model_name', 'R2_score', 'Mean_Squared_Error',\n",
    "                                            'Root_Mean_Squared_Error', 'Mean_Absolute_Error'])\n",
    "\n",
    "metrics_df"
   ]
  },
  {
   "cell_type": "markdown",
   "metadata": {},
   "source": [
    "The Elastic Net model stands out as the top performer based on these metrics, with the highest R² score and the lowest MSE, RMSE, and MAE. It appears to be the most suitable model for this dataset."
   ]
  },
  {
   "cell_type": "code",
   "execution_count": 100,
   "metadata": {},
   "outputs": [
    {
     "name": "stdout",
     "output_type": "stream",
     "text": [
      "Model : Linear Regression\n",
      "cv_score : [-0.00699007 -1.43618818  0.18571742  0.09534683  0.00779172]\n",
      "Mean Score -0.23086445538972006\n",
      "Diffrenece between Mean CV Score and R2 score 0.2277212352817219\n",
      "\n",
      "\n",
      "Model : Random Forest\n",
      "cv_score : [-6.00224764e-03 -1.88874193e+01 -1.40496173e+00 -2.32503381e+00\n",
      " -1.92232568e+00]\n",
      "Mean Score -4.909148554437015\n",
      "Diffrenece between Mean CV Score and R2 score 4.906005334329016\n",
      "\n",
      "\n",
      "Model : Support Vector Regression\n",
      "cv_score : [-0.01152374 -0.07538493 -0.03788316 -0.24470411 -0.03148693]\n",
      "Mean Score -0.0801965729813137\n",
      "Diffrenece between Mean CV Score and R2 score 0.07705335287331554\n",
      "\n",
      "\n",
      "Model : Decision Tree\n",
      "cv_score : [-1.34834658e-02 -4.18001895e+02 -8.57176953e-01 -6.26486453e-02\n",
      " -4.25982543e-01]\n",
      "Mean Score -83.87223723696293\n",
      "Diffrenece between Mean CV Score and R2 score 83.86909401685493\n",
      "\n",
      "\n",
      "Model : K-Nearest Neighbors\n",
      "cv_score : [-4.79621792e-03 -2.27233153e+01 -1.06575296e+01 -9.35822726e+00\n",
      " -1.16530697e+00]\n",
      "Mean Score -8.781835073435275\n",
      "Diffrenece between Mean CV Score and R2 score 8.778691853327278\n",
      "\n",
      "\n",
      "Model : Gradient Boosting\n",
      "cv_score : [-5.78050298e-03 -2.18432814e+01 -9.40119037e-02 -3.34601570e-01\n",
      " -9.04347236e-01]\n",
      "Mean Score -4.636404524580742\n",
      "Diffrenece between Mean CV Score and R2 score 4.633261304472744\n",
      "\n",
      "\n",
      "Model : Lasso Regression\n",
      "cv_score : [-0.00698989 -1.43533238  0.18576022  0.0954414   0.00785504]\n",
      "Mean Score -0.23065312183882813\n",
      "Diffrenece between Mean CV Score and R2 score 0.22750990173082997\n",
      "\n",
      "\n",
      "Model : Ridge Regression\n",
      "cv_score : [-0.00699028 -1.43469791  0.18578654  0.09551867  0.00784085]\n",
      "Mean Score -0.2305084257463005\n",
      "Diffrenece between Mean CV Score and R2 score 0.22736520563830234\n",
      "\n",
      "\n",
      "Model : Elastic Net\n",
      "cv_score : [-0.00706197 -0.81443705  0.1638121   0.14319071  0.02161119]\n",
      "Mean Score -0.09857700330321921\n",
      "Diffrenece between Mean CV Score and R2 score 0.09543378319522104\n",
      "\n",
      "\n",
      "Model : Bayesian Ridge\n",
      "cv_score : [-0.00700414 -0.78959153  0.02316342  0.11017055  0.01462913]\n",
      "Mean Score -0.12972651336969718\n",
      "Diffrenece between Mean CV Score and R2 score 0.126583293261699\n",
      "\n",
      "\n"
     ]
    }
   ],
   "source": [
    "# using cross val score on the regressors\n",
    "for name, model in models:\n",
    "    cv_score = cross_val_score(model, X, y, cv=5)\n",
    "    print('Model :', name)\n",
    "    print('cv_score :',cv_score)\n",
    "    print('Mean Score', cv_score.mean())\n",
    "    print(\"Diffrenece between Mean CV Score and R2 score\", (r2_score(y_test,y_pred)-cv_score.mean()))\n",
    "    print(\"\\n\")"
   ]
  },
  {
   "cell_type": "markdown",
   "metadata": {},
   "source": [
    "In this context, the model with the lowest difference between the mean CV score and R2 score is often a good starting point for hyperparameter tuning because it indicates that the model's performance on cross-validation is consistent with its performance on the test data. However, the choice of the \"best\" model might also depend on other factors such as the complexity of the model, interpretability, and the specific goals of your project.\n",
    "\n",
    "From the above information, it seems that the \"Elastic Net\" model has the lowest difference between the mean CV score and R2 score, with a difference of approximately 0.0954. This suggests that Elastic Net is a relatively stable model in terms of generalization"
   ]
  },
  {
   "cell_type": "code",
   "execution_count": 101,
   "metadata": {},
   "outputs": [
    {
     "name": "stdout",
     "output_type": "stream",
     "text": [
      "R2 Score: 0.08438077076192596\n",
      "Mean Squared Error: 150561800.47869536\n",
      "Root Mean Squared Error: 12270.36268733306\n",
      "Mean Absolute Error: 7698.523362673948\n"
     ]
    }
   ],
   "source": [
    "# Sample data \n",
    "X= hotel_data.drop(['Prices'], axis=1)\n",
    "y = hotel_data['Prices']\n",
    "\n",
    "# Split the data into training and testing sets\n",
    "X_train, X_test, y_train, y_test = train_test_split(X, y, test_size=0.2, random_state=42)\n",
    "\n",
    "# Create an Elastic Net model\n",
    "alpha = 1.0  # The regularization strength, adjust as needed\n",
    "l1_ratio = 0.5  # The mixing parameter between L1 and L2 regularization, adjust as needed\n",
    "elastic_net_model = ElasticNet(alpha=alpha, l1_ratio=l1_ratio)\n",
    "\n",
    "# Fit the model on the training data\n",
    "elastic_net_model.fit(X_train, y_train)\n",
    "\n",
    "# Make predictions on the test data\n",
    "y_pred = elastic_net_model.predict(X_test)\n",
    "\n",
    "# Evaluate the model\n",
    "r2 = r2_score(y_test, y_pred)\n",
    "mse = mean_squared_error(y_test, y_pred)\n",
    "rmse = np.sqrt(mse)\n",
    "mae = mean_absolute_error(y_test, y_pred)\n",
    "\n",
    "# Print the evaluation metrics\n",
    "print(f'R2 Score: {r2}')\n",
    "print(f'Mean Squared Error: {mse}')\n",
    "print(f'Root Mean Squared Error: {rmse}')\n",
    "print(f'Mean Absolute Error: {mae}')"
   ]
  },
  {
   "cell_type": "code",
   "execution_count": 102,
   "metadata": {},
   "outputs": [
    {
     "data": {
      "text/plain": [
       "['Hotel_prices.pkl']"
      ]
     },
     "execution_count": 102,
     "metadata": {},
     "output_type": "execute_result"
    }
   ],
   "source": [
    "import joblib\n",
    "\n",
    "# Save the model to the file\n",
    "joblib.dump(elastic_net_model, \"Hotel_prices.pkl\")"
   ]
  },
  {
   "cell_type": "markdown",
   "metadata": {},
   "source": [
    "#### Predicting the review score is a classification problem"
   ]
  },
  {
   "cell_type": "code",
   "execution_count": 103,
   "metadata": {},
   "outputs": [],
   "source": [
    "# for classification, region is the target variable\n",
    "X_c = hotel_data.drop(['Review Score'], axis=1)\n",
    "y = hotel_data['Review Score']"
   ]
  },
  {
   "cell_type": "code",
   "execution_count": 104,
   "metadata": {},
   "outputs": [
    {
     "data": {
      "text/plain": [
       "Non-Smoking Rooms     -1.937760\n",
       "Heating               -1.860799\n",
       "User Ratings          -1.855200\n",
       "Star Rating           -0.864126\n",
       "Lift                  -0.752264\n",
       "Family Rooms          -0.313738\n",
       "Room Type             -0.268052\n",
       "City                  -0.006294\n",
       "Bar                    0.289754\n",
       "Breakfast Cuisine1     2.320316\n",
       "Number of Reviews      3.419698\n",
       "Prices                45.259047\n",
       "dtype: float64"
      ]
     },
     "execution_count": 104,
     "metadata": {},
     "output_type": "execute_result"
    }
   ],
   "source": [
    "# checking and correcting skewness\n",
    "X_c.skew().sort_values()"
   ]
  },
  {
   "cell_type": "code",
   "execution_count": 105,
   "metadata": {},
   "outputs": [],
   "source": [
    "# finding and transforming outliers\n",
    "# Iterate over each column in X\n",
    "for col in X_c.columns:\n",
    "    # Calculate the lower and upper thresholds for the column\n",
    "    Q1 = np.percentile(X_c[col], 25)\n",
    "    Q3 = np.percentile(X_c[col], 75)\n",
    "    IQR = Q3 - Q1\n",
    "    lower_threshold = Q1 - 1.5 * IQR\n",
    "    upper_threshold = Q3 + 1.5 * IQR\n",
    "\n",
    "    # Replace outliers in the column with threshold values\n",
    "    X_c[col] = np.where(X_c[col] < lower_threshold, lower_threshold, X_c[col])\n",
    "    X_c[col] = np.where(X_c[col] > upper_threshold, upper_threshold, X_c[col])"
   ]
  },
  {
   "cell_type": "code",
   "execution_count": 106,
   "metadata": {},
   "outputs": [
    {
     "name": "stdout",
     "output_type": "stream",
     "text": [
      "X_train shape (1941, 12)\n",
      "X_test shape (648, 12)\n",
      "y_train shape (1941,)\n",
      "y_test shape (648,)\n"
     ]
    }
   ],
   "source": [
    "from sklearn.model_selection import train_test_split, cross_val_score, GridSearchCV\n",
    "from sklearn.preprocessing import StandardScaler\n",
    "\n",
    "# scaling the dataset\n",
    "scaler = StandardScaler()\n",
    "X = scaler.fit_transform(X_c)\n",
    "\n",
    "# splitting data into train and tests set\n",
    "X_train, X_test, y_train, y_test = train_test_split(X,y, test_size=0.25, random_state=42)\n",
    "\n",
    "print('X_train shape', X_train.shape)\n",
    "print('X_test shape', X_test.shape)\n",
    "print('y_train shape', y_train.shape)\n",
    "print('y_test shape', y_test.shape)"
   ]
  },
  {
   "cell_type": "code",
   "execution_count": 107,
   "metadata": {},
   "outputs": [
    {
     "name": "stdout",
     "output_type": "stream",
     "text": [
      "Model:  KNeighborsClassifier()\n",
      "[[ 26   0   0   0   2   2   5   0   0]\n",
      " [  4   0   0   0   1   2   3   0   0]\n",
      " [  0   0   7   1   0   0   0   6   2]\n",
      " [  0   0   1  32   3   0   0   6  42]\n",
      " [  1   0   0   7 155   2   0   0  37]\n",
      " [  4   0   0   0  19  12   0   0   1]\n",
      " [ 11   0   0   0   2   3   1   0   0]\n",
      " [  0   0   8  25   0   0   0  20   3]\n",
      " [  0   0   2  25  44   0   0   1 120]]\n",
      "\n",
      "Model:  DecisionTreeClassifier()\n",
      "[[ 35   0   0   0   0   0   0   0   0]\n",
      " [  1   1   0   0   0   0   8   0   0]\n",
      " [  0   0  16   0   0   0   0   0   0]\n",
      " [  0   0   0  84   0   0   0   0   0]\n",
      " [  0   0   0   0 202   0   0   0   0]\n",
      " [  0   0   0   0   0  36   0   0   0]\n",
      " [  0   7   0   0   0   0  10   0   0]\n",
      " [  0   0   0   0   0   0   0  56   0]\n",
      " [  0   0   0   0   0   0   0   0 192]]\n",
      "\n",
      "Model:  RandomForestClassifier()\n",
      "[[ 35   0   0   0   0   0   0   0   0]\n",
      " [  1   0   0   0   0   0   9   0   0]\n",
      " [  0   0  15   0   0   0   0   1   0]\n",
      " [  0   0   0  83   0   0   0   1   0]\n",
      " [  0   0   0   0 202   0   0   0   0]\n",
      " [  0   0   0   0   0  36   0   0   0]\n",
      " [  0   0   0   0   0   3  14   0   0]\n",
      " [  0   0   1   0   0   0   0  55   0]\n",
      " [  0   0   0   0   0   0   0   0 192]]\n",
      "\n",
      "Model:  AdaBoostClassifier(n_estimators=100)\n",
      "[[ 35   0   0   0   0   0   0   0   0]\n",
      " [  0   0   0   0   0   0  10   0   0]\n",
      " [  0   0  16   0   0   0   0   0   0]\n",
      " [  0   0   0   0   0   0   0   0  84]\n",
      " [  0   0   0   0 202   0   0   0   0]\n",
      " [  0   0   0   0  36   0   0   0   0]\n",
      " [  0   0   0   0   0   0  17   0   0]\n",
      " [  0   0   0   0   0   0   0   0  56]\n",
      " [  0   0   0   0   0   0   0   0 192]]\n",
      "\n",
      "Model:  SVC()\n",
      "[[ 33   0   0   0   0   0   2   0   0]\n",
      " [  5   0   0   0   0   4   1   0   0]\n",
      " [  0   0  14   0   0   0   0   2   0]\n",
      " [  0   0   0  61   0   0   0   2  21]\n",
      " [  0   0   0   0 186   2   0   0  14]\n",
      " [  2   0   0   0   8  26   0   0   0]\n",
      " [ 12   0   0   0   0   3   2   0   0]\n",
      " [  0   0   2  25   0   0   0  29   0]\n",
      " [  0   0   0   3   8   0   0   0 181]]\n",
      "\n",
      "Model:  GradientBoostingClassifier()\n",
      "[[ 35   0   0   0   0   0   0   0   0]\n",
      " [  1   0   0   0   0   0   9   0   0]\n",
      " [  0   0  16   0   0   0   0   0   0]\n",
      " [  0   0   0  84   0   0   0   0   0]\n",
      " [  0   0   0   0 202   0   0   0   0]\n",
      " [  0   0   0   0   0  36   0   0   0]\n",
      " [  0   3   0   0   0   0  14   0   0]\n",
      " [  0   0   0   0   0   0   0  56   0]\n",
      " [  0   0   0   0   0   0   0   0 192]]\n",
      "\n",
      "Model:  BaggingClassifier(base_estimator=DecisionTreeClassifier(), n_estimators=100)\n",
      "[[ 35   0   0   0   0   0   0   0   0]\n",
      " [  1   0   0   0   0   0   9   0   0]\n",
      " [  0   0  16   0   0   0   0   0   0]\n",
      " [  0   0   0  84   0   0   0   0   0]\n",
      " [  0   0   0   0 202   0   0   0   0]\n",
      " [  0   0   0   0   0  36   0   0   0]\n",
      " [  0   3   0   0   0   0  14   0   0]\n",
      " [  0   0   0   0   0   0   0  56   0]\n",
      " [  0   0   0   0   0   0   0   0 192]]\n",
      "\n",
      "Model:  ExtraTreesClassifier()\n",
      "[[ 35   0   0   0   0   0   0   0   0]\n",
      " [  3   0   0   0   0   0   7   0   0]\n",
      " [  0   0  15   0   0   0   0   1   0]\n",
      " [  0   0   0  77   0   0   0   1   6]\n",
      " [  0   0   0   0 194   1   0   0   7]\n",
      " [  0   0   0   0   8  28   0   0   0]\n",
      " [  4   1   0   0   0   3   9   0   0]\n",
      " [  0   0   1  11   0   0   0  44   0]\n",
      " [  0   0   0   3   9   0   0   0 180]]\n",
      "\n",
      "Model:  LogisticRegression()\n",
      "[[ 35   0   0   0   0   0   0   0   0]\n",
      " [  5   0   0   0   0   2   3   0   0]\n",
      " [  0   0  14   0   0   0   0   2   0]\n",
      " [  0   0   0  66   0   0   0   0  18]\n",
      " [  0   0   0   0 192   0   0   0  10]\n",
      " [  3   0   0   0  16  17   0   0   0]\n",
      " [  8   0   0   0   0   4   5   0   0]\n",
      " [  0   0   1  27   0   0   0  28   0]\n",
      " [  0   0   0   0   1   0   0   0 191]]\n",
      "\n",
      "                Model  Accuracy  F1 Score Precision    Recall\n",
      "0          KNeighbors  0.575617  0.561677  0.560496  0.575617\n",
      "1        DecisionTree  0.975309  0.974278  0.973337  0.975309\n",
      "2        RandomForest  0.975309  0.969101  0.963953  0.975309\n",
      "3            AdaBoost  0.712963  0.602332   0.53115  0.712963\n",
      "4                 SVC  0.820988  0.805699   0.80776  0.820988\n",
      "5    GradientBoosting  0.979938  0.975937  0.972802  0.979938\n",
      "6             Bagging  0.979938  0.975937  0.972802  0.979938\n",
      "7          ExtraTrees  0.898148  0.890859  0.886827  0.898148\n",
      "8  LogisticRegression  0.845679   0.82836  0.835012  0.845679\n"
     ]
    }
   ],
   "source": [
    "from sklearn.metrics import (confusion_matrix, classification_report,accuracy_score,f1_score,precision_score,recall_score)\n",
    "from sklearn.neighbors import KNeighborsClassifier\n",
    "from sklearn.tree import DecisionTreeClassifier\n",
    "from sklearn.ensemble import RandomForestClassifier\n",
    "from sklearn.ensemble import AdaBoostClassifier\n",
    "from sklearn.svm import SVC\n",
    "from sklearn.ensemble import GradientBoostingClassifier\n",
    "from sklearn.ensemble import BaggingClassifier\n",
    "from sklearn.ensemble import ExtraTreesClassifier\n",
    "from sklearn.linear_model import LogisticRegression\n",
    "\n",
    "models = [\n",
    "    ('KNeighbors', KNeighborsClassifier()),\n",
    "    ('DecisionTree', DecisionTreeClassifier()),\n",
    "    ('RandomForest', RandomForestClassifier(n_estimators=100)),\n",
    "    ('AdaBoost', AdaBoostClassifier(n_estimators=100)),\n",
    "    ('SVC', SVC()),\n",
    "    ('GradientBoosting', GradientBoostingClassifier()),\n",
    "    ('Bagging', BaggingClassifier(base_estimator=DecisionTreeClassifier(), n_estimators=100)),\n",
    "    ('ExtraTrees', ExtraTreesClassifier(n_estimators=100)),\n",
    "    ('LogisticRegression', LogisticRegression())]\n",
    "\n",
    "scores_df = pd.DataFrame(columns=['Model', 'Accuracy', 'F1 Score', 'Precision', 'Recall'])\n",
    "\n",
    "for name, model in models:\n",
    "    print(\"Model: \", str(model))\n",
    "    model.fit(X_train, y_train)\n",
    "    y_pred = model.predict(X_test)\n",
    "    print(confusion_matrix(y_test,y_pred))\n",
    "    print()\n",
    "\n",
    "    # Calculate the scores\n",
    "    accuracy = accuracy_score(y_test, y_pred)\n",
    "    f1 = f1_score(y_test, y_pred, average='weighted')\n",
    "    precision = precision_score(y_test, y_pred, average='weighted')\n",
    "    recall = recall_score(y_test, y_pred, average='weighted')\n",
    "\n",
    "    # Add scores to the DataFrame\n",
    "    scores_df = scores_df.append({'Model': name, 'Accuracy': accuracy, 'F1 Score': f1, 'Precision': precision, 'Recall': recall}, ignore_index=True)\n",
    "    \n",
    "print(scores_df)\n"
   ]
  },
  {
   "cell_type": "markdown",
   "metadata": {},
   "source": [
    "DecisionTree, RandomForest, GradientBoosting, or Bagging consistently exhibit high performance across multiple evaluation metrics."
   ]
  },
  {
   "cell_type": "code",
   "execution_count": 108,
   "metadata": {},
   "outputs": [
    {
     "name": "stdout",
     "output_type": "stream",
     "text": [
      "Model : KNeighbors\n",
      "cv_score : [0.28378378 0.25096525 0.33204633 0.26447876 0.26112186]\n",
      "Mean Score 0.2784791976281338\n",
      "Difference between accuracy and cv score is:  0.5671998147175452\n",
      "\n",
      "\n",
      "Model : DecisionTree\n",
      "cv_score : [0.97490347 0.97683398 0.98455598 0.98069498 0.99226306]\n",
      "Mean Score 0.9818502946162522\n",
      "Difference between accuracy and cv score is:  -0.13617128227057318\n",
      "\n",
      "\n",
      "Model : RandomForest\n",
      "cv_score : [0.96911197 0.98648649 0.96911197 0.96718147 0.97098646]\n",
      "Mean Score 0.9725756704480109\n",
      "Difference between accuracy and cv score is:  -0.12689665810233186\n",
      "\n",
      "\n",
      "Model : AdaBoost\n",
      "cv_score : [0.71814672 0.72007722 0.72007722 0.72007722 0.72147002]\n",
      "Mean Score 0.7199696795441477\n",
      "Difference between accuracy and cv score is:  0.1257093328015313\n",
      "\n",
      "\n",
      "Model : SVC\n",
      "cv_score : [0.28957529 0.33976834 0.35328185 0.37451737 0.28820116]\n",
      "Mean Score 0.3290688035368886\n",
      "Difference between accuracy and cv score is:  0.5166102088087904\n",
      "\n",
      "\n",
      "Model : GradientBoosting\n",
      "cv_score : [0.98069498 0.98455598 0.97490347 0.98455598 0.99032882]\n",
      "Mean Score 0.9830078489652958\n",
      "Difference between accuracy and cv score is:  -0.1373288366196168\n",
      "\n",
      "\n",
      "Model : Bagging\n",
      "cv_score : [0.98262548 0.98648649 0.97104247 0.98262548 0.98646035]\n",
      "Mean Score 0.9818480541884798\n",
      "Difference between accuracy and cv score is:  -0.13616904184280076\n",
      "\n",
      "\n",
      "Model : ExtraTrees\n",
      "cv_score : [0.86100386 0.8030888  0.81467181 0.83976834 0.85880077]\n",
      "Mean Score 0.8354667184454418\n",
      "Difference between accuracy and cv score is:  0.010212293900237146\n",
      "\n",
      "\n",
      "Model : LogisticRegression\n",
      "cv_score : [0.33976834 0.34169884 0.36679537 0.32432432 0.30947776]\n",
      "Mean Score 0.3364129257746279\n",
      "Difference between accuracy and cv score is:  0.5092660865710511\n",
      "\n",
      "\n"
     ]
    }
   ],
   "source": [
    "# checking cv score for different classifiers\n",
    "for name, model in models:\n",
    "    cv_score = cross_val_score(model, X_c, y, cv=5, scoring='accuracy')\n",
    "    accuracy = accuracy_score(y_test, y_pred)\n",
    "    print('Model :', name)\n",
    "    print('cv_score :',cv_score)\n",
    "    print('Mean Score', cv_score.mean())\n",
    "    print(\"Difference between accuracy and cv score is: \", accuracy-cv_score.mean())\n",
    "    print(\"\\n\")"
   ]
  },
  {
   "cell_type": "markdown",
   "metadata": {},
   "source": [
    "GradientBoosting, DecisionTree, RandomForest, and Bagging appear to be strong models for the best model.\n"
   ]
  },
  {
   "cell_type": "markdown",
   "metadata": {},
   "source": [
    "\"DecisionTree\" model is the best performing model among all. Here are the key reasons for selecting the DecisionTree model:\n",
    "\n",
    "High Accuracy: The DecisionTree model has an accuracy of 97.83%, which is the highest among the models you've tested. This indicates that it correctly predicts the classes for most of the samples.\n",
    "\n",
    "High F1 Score: The F1 Score, which is a balance between precision and recall, is also very high at 97.65%. This means the model achieves a good balance between minimizing false positives and false negatives.\n",
    "\n",
    "High Precision: The precision of the DecisionTree model is 97.51%, indicating that when it predicts a class, it is often correct.\n",
    "\n",
    "High Recall: The recall of the DecisionTree model is 97.83%, which indicates that the model captures most of the positive samples.\n",
    "\n",
    "Stability: The model has a relatively small difference between accuracy and cross-validation scores i.e. -0.13269, which suggests stability."
   ]
  },
  {
   "cell_type": "code",
   "execution_count": 109,
   "metadata": {},
   "outputs": [
    {
     "name": "stdout",
     "output_type": "stream",
     "text": [
      "Best Hyperparameters: {'max_depth': 10, 'min_samples_leaf': 4, 'min_samples_split': 2}\n"
     ]
    }
   ],
   "source": [
    "#hyperparameter tuning\n",
    "\n",
    "# Define the Decision Tree model\n",
    "dt_model = DecisionTreeClassifier()\n",
    "\n",
    "# Define the hyperparameters to search through\n",
    "param_grid = {\n",
    "    'max_depth': [None, 10, 20],\n",
    "    'min_samples_split': [2, 5, 10],\n",
    "    'min_samples_leaf': [1, 2, 4]\n",
    "}\n",
    "\n",
    "# Perform Grid Search\n",
    "grid_search = GridSearchCV(estimator=dt_model, param_grid=param_grid)\n",
    "grid_search.fit(X_train, y_train)\n",
    "\n",
    "# Get the best hyperparameters and model\n",
    "best_params = grid_search.best_params_\n",
    "best_model = grid_search.best_estimator_\n",
    "\n",
    "print(\"Best Hyperparameters:\", best_params)"
   ]
  },
  {
   "cell_type": "code",
   "execution_count": 110,
   "metadata": {},
   "outputs": [
    {
     "name": "stdout",
     "output_type": "stream",
     "text": [
      "Accuracy :  0.9768518518518519\n"
     ]
    }
   ],
   "source": [
    "# final model\n",
    "final = DecisionTreeClassifier(max_depth=20 ,min_samples_leaf=1 ,min_samples_split=2)\n",
    "final.fit(X_train,y_train)\n",
    "final_pred = final.predict(X_test)\n",
    "print(\"Accuracy : \", accuracy_score(y_test, final_pred))"
   ]
  },
  {
   "cell_type": "code",
   "execution_count": 111,
   "metadata": {},
   "outputs": [
    {
     "data": {
      "text/plain": [
       "['Hotel_reviewscore.pkl']"
      ]
     },
     "execution_count": 111,
     "metadata": {},
     "output_type": "execute_result"
    }
   ],
   "source": [
    "# saving the model\n",
    "import joblib\n",
    "joblib.dump(final, \"Hotel_reviewscore.pkl\")"
   ]
  },
  {
   "cell_type": "code",
   "execution_count": null,
   "metadata": {},
   "outputs": [],
   "source": []
  }
 ],
 "metadata": {
  "kernelspec": {
   "display_name": "Python 3 (ipykernel)",
   "language": "python",
   "name": "python3"
  },
  "language_info": {
   "codemirror_mode": {
    "name": "ipython",
    "version": 3
   },
   "file_extension": ".py",
   "mimetype": "text/x-python",
   "name": "python",
   "nbconvert_exporter": "python",
   "pygments_lexer": "ipython3",
   "version": "3.9.12"
  }
 },
 "nbformat": 4,
 "nbformat_minor": 4
}
